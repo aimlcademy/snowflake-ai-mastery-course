{
 "metadata": {
  "kernelspec": {
   "display_name": "Streamlit Notebook",
   "name": "streamlit"
  }
 },
 "nbformat_minor": 5,
 "nbformat": 4,
 "cells": [
  {
   "cell_type": "markdown",
   "id": "e5b083e0-1104-489f-b99d-1199b684e881",
   "metadata": {
    "name": "Title_MD",
    "collapsed": false,
    "resultHeight": 74
   },
   "source": "# Setup Data in Snowflake for Tasty Bytes Analytics"
  },
  {
   "cell_type": "markdown",
   "id": "0878779f-8f27-4812-b6d6-c6f56f8e9c28",
   "metadata": {
    "name": "Database_Configuration_MD",
    "collapsed": false,
    "resultHeight": 864
   },
   "source": "## Initial Database Configuration\n\n### Environment Setup\nThis section configures the necessary Snowflake environment and creates the main database for our Voice of Customer (VOC) analytics platform.\n\n### Security and Resource Configuration\n- **Role**: Using `demoadmin` for administrative privileges\n- **Warehouse**: Utilizing `compute_wh` for processing power\n\n### Configuration Details\n\n**Role Configuration**\n- `demoadmin`: Administrative role with necessary privileges for database creation and management\n- Ensures proper security controls and access management\n\n**Warehouse Selection**\n- `compute_wh`: Default compute warehouse\n- Handles computational resources for database operations\n\n**Database Creation**\n- Database Name: `tb_voc`\n- Purpose: Centralized storage for Voice of Customer analytics\n- `CREATE OR REPLACE`: Ensures clean installation if database already exists\n\n### Best Practices\n- Always verify role permissions before execution\n- Ensure warehouse has adequate resources\n- Document any custom configurations"
  },
  {
   "cell_type": "code",
   "id": "ddb6394b-d3d3-4eb8-a35e-a793ce4a6c92",
   "metadata": {
    "language": "sql",
    "name": "Database_Configuration",
    "collapsed": false,
    "resultHeight": 111
   },
   "outputs": [],
   "source": "USE ROLE demoadmin;\nUSE WAREHOUSE compute_wh;\n\n-- create tb_voc database\nCREATE OR REPLACE DATABASE tb_voc;\n",
   "execution_count": null
  },
  {
   "cell_type": "markdown",
   "id": "02f2a349-01b7-49ac-b341-2d68d2faa622",
   "metadata": {
    "name": "Schema_Setup_MD",
    "collapsed": false,
    "resultHeight": 1248
   },
   "source": "## Database Schema Setup\n\n### Overview\nThis section establishes the foundational database structure for our Voice of Customer (VOC) analysis system. We create four distinct schemas to organize our data pipeline:\n- Raw POS (Point of Sale) data\n- Raw Customer Support data\n- Harmonized data layer\n- Analytics layer\n\n### Schema Architecture\nThe database follows a layered architecture:\n1. **Raw Data Layers** - Store original, unmodified data\n2. **Harmonized Layer** - Contains cleaned and standardized data\n3. **Analytics Layer** - Hosts transformed data ready for analysis\n\n### Schema Descriptions\n\n**Raw POS Schema (tb_voc.raw_pos)**\n- Stores point-of-sale transaction data\n- Contains original, unmodified retail data\n- Source for customer purchase behavior analysis\n\n**Raw Support Schema (tb_voc.raw_support)**\n- Houses customer support interaction data\n- Includes customer feedback and support tickets\n- Maintains original support data structure\n\n**Harmonized Schema (tb_voc.harmonized)**\n- Stores cleaned and standardized data\n- Combines data from multiple sources\n- Ensures consistent data formats and structures\n\n**Analytics Schema (tb_voc.analytics)**\n- Contains derived metrics and aggregated data\n- Optimized for reporting and analysis\n- Supports business intelligence applications\n\n### Usage Notes\n- Always use appropriate schema when creating new tables\n- Follow naming conventions for each schema\n- Maintain data lineage documentation"
  },
  {
   "cell_type": "code",
   "id": "165681b0-b679-4aad-bad2-de0009328f6d",
   "metadata": {
    "language": "sql",
    "name": "Schema_Setup",
    "collapsed": false,
    "resultHeight": 111
   },
   "outputs": [],
   "source": "-- create raw_pos schema\nCREATE OR REPLACE SCHEMA tb_voc.raw_pos;\n\n-- create raw_customer schema\nCREATE OR REPLACE SCHEMA tb_voc.raw_support;\n\n-- create harmonized schema\nCREATE OR REPLACE SCHEMA tb_voc.harmonized;\n\n-- create analytics schema\nCREATE OR REPLACE SCHEMA tb_voc.analytics;\n",
   "execution_count": null
  },
  {
   "cell_type": "markdown",
   "id": "f51f3869-c230-430e-87a1-0329ede6269c",
   "metadata": {
    "name": "Warehouse_Configuration_MD",
    "collapsed": false,
    "resultHeight": 1071
   },
   "source": "## Data Science Warehouse Configuration\n\n### Overview\nThis section sets up a dedicated warehouse for data science operations. The warehouse is configured with specific parameters to optimize performance and cost efficiency.\n\n### Warehouse Specifications\n| Parameter | Value | Purpose |\n|-----------|--------|---------|\n| Size | Large | Higher computational power |\n| Type | Standard | General-purpose processing |\n| Auto-suspend | 60 seconds | Cost optimization |\n| Auto-resume | Enabled | Seamless operation |\n| Initial State | Suspended | Resource efficiency |\n\n### Configuration Details\n\n**Resource Management**\n- **Warehouse Name**: `tasty_ds_wh`\n- **Purpose**: Dedicated to data science workloads\n- **Size**: Large warehouse for handling complex computations\n\n**Performance Settings**\n- Auto-suspends after 60 seconds of inactivity\n- Automatically resumes when queries are submitted\n- Starts in suspended state to prevent unnecessary costs\n\n**Cost Optimization Features**\n- Automatic suspension saves credits during idle periods\n- Auto-resume ensures no manual intervention needed\n- Initial suspended state prevents immediate resource allocation\n\n### Usage Guidelines\n- Monitor warehouse utilization for optimal sizing\n- Adjust auto-suspend timing based on usage patterns\n- Consider scaling during peak processing times"
  },
  {
   "cell_type": "code",
   "id": "9d4e5db7-8264-4dbb-816e-1de1d666f931",
   "metadata": {
    "language": "sql",
    "name": "Warehouse_Configuration",
    "collapsed": false,
    "resultHeight": 111
   },
   "outputs": [],
   "source": "-- create tasty_ds_wh warehouse\nCREATE OR REPLACE WAREHOUSE tasty_ds_wh\n    WAREHOUSE_SIZE = 'large'\n    WAREHOUSE_TYPE = 'standard'\n    AUTO_SUSPEND = 60\n    AUTO_RESUME = TRUE\n    INITIALLY_SUSPENDED = TRUE\nCOMMENT = 'data science warehouse for tasty bytes';\n",
   "execution_count": null
  },
  {
   "cell_type": "markdown",
   "id": "1a45a0bf-db2f-4365-af05-707f43eba634",
   "metadata": {
    "name": "Data_Loading_Infrastructure_Setup_MD",
    "collapsed": false,
    "resultHeight": 957
   },
   "source": "## Data Loading Infrastructure Setup\n\n### Overview\nThis section configures the necessary components for data ingestion from S3 into Snowflake. We set up:\n- A warehouse connection\n- CSV file format specification\n- External stage connection to S3\n\n### Infrastructure Components\n| Component | Purpose |\n|-----------|---------|\n| Warehouse | Processing resources |\n| File Format | Data parsing rules |\n| External Stage | S3 connection point |\n\n### Configuration Details\n\n**File Format Configuration**\n- Name: `tb_voc.public.csv_ff`\n- Type: CSV\n- Purpose: Standardizes data parsing rules\n\n**External Stage Setup**\n- Name: `tb_voc.public.s3load`\n- Location: S3 bucket for Tasty Bytes VOC data\n- Integration: Links to specified CSV file format\n\n### Usage Notes\n- Ensure warehouse is active before loading data\n- Verify S3 bucket permissions\n- Monitor data loading performance\n- Use appropriate file format for data type"
  },
  {
   "cell_type": "code",
   "id": "d68f3e84-20a3-466f-9b7d-07a056f38515",
   "metadata": {
    "language": "sql",
    "name": "Data_Loading_Infrastructure_Setup",
    "collapsed": false,
    "resultHeight": 111
   },
   "outputs": [],
   "source": "\nUSE WAREHOUSE tasty_ds_wh;\n\n/*--\n• file format and stage creation\n--*/\n\nCREATE OR REPLACE FILE FORMAT tb_voc.public.csv_ff \ntype = 'csv';\n\nCREATE OR REPLACE STAGE tb_voc.public.s3load\nCOMMENT = 'Quickstarts S3 Stage Connection'\nurl = 's3://sfquickstarts/tastybytes-voc/'\nfile_format = tb_voc.public.csv_ff;\n",
   "execution_count": null
  },
  {
   "cell_type": "markdown",
   "id": "1b2e80fd-a414-4fa2-b365-ac4ee8f78834",
   "metadata": {
    "name": "Raw_Data_Tables_Configuration_MD",
    "collapsed": false,
    "resultHeight": 1598
   },
   "source": "## Raw Data Tables Configuration\n\n### Overview\nThis section establishes the foundational tables in our raw data zone. These tables store original, unmodified data from various sources including:\n- Menu information\n- Truck details\n- Order transactions\n- Customer reviews\n\n### Menu Table Details\n- **Purpose**: Stores complete menu catalog information\n- **Key Fields**:\n  - Menu and item identifiers\n  - Categorization fields\n  - Pricing information\n  - Health metrics (stored as VARIANT for flexibility)\n\n### Truck Table Details\n- **Purpose**: Maintains food truck fleet information\n- **Key Fields**:\n  - Location and regional data\n  - Vehicle specifications\n  - Franchise information\n  - Operational details\n\n### Order Header Table Details\n- **Purpose**: Records transaction details\n- **Key Fields**:\n  - Order identification and timing\n  - Customer and location references\n  - Financial information\n  - Operational metrics\n\n### Review Table Details\n- **Purpose**: Stores customer feedback data\n- **Key Fields**:\n  - Review identification\n  - Content and language\n  - Source tracking\n  - Order reference\n\n### Data Relationships\n- Orders link to specific trucks and customers\n- Reviews connect to specific orders\n- Trucks associate with menu types\n- Menu items belong to specific truck brands\n\n### Usage Guidelines\n- Maintain data integrity with proper key relationships\n- Monitor storage usage for large text fields\n- Consider partitioning strategy for large tables\n- Implement appropriate indexing\n\n"
  },
  {
   "cell_type": "code",
   "id": "bb4e7116-1895-4b21-85a4-dbfd41bd2b28",
   "metadata": {
    "language": "sql",
    "name": "Raw_Data_Tables_Configuration",
    "collapsed": false,
    "resultHeight": 111
   },
   "outputs": [],
   "source": "\n/*--\nraw zone table build \n--*/\n\n-- menu table build\nCREATE OR REPLACE TABLE tb_voc.raw_pos.menu\n(\n    menu_id NUMBER(19,0),\n    menu_type_id NUMBER(38,0),\n    menu_type VARCHAR(16777216),\n    truck_brand_name VARCHAR(16777216),\n    menu_item_id NUMBER(38,0),\n    menu_item_name VARCHAR(16777216),\n    item_category VARCHAR(16777216),\n    item_subcategory VARCHAR(16777216),\n    cost_of_goods_usd NUMBER(38,4),\n    sale_price_usd NUMBER(38,4),\n    menu_item_health_metrics_obj VARIANT\n);\n\n-- truck table build \nCREATE OR REPLACE TABLE tb_voc.raw_pos.truck\n(\n    truck_id NUMBER(38,0),\n    menu_type_id NUMBER(38,0),\n    primary_city VARCHAR(16777216),\n    region VARCHAR(16777216),\n    iso_region VARCHAR(16777216),\n    country VARCHAR(16777216),\n    iso_country_code VARCHAR(16777216),\n    franchise_flag NUMBER(38,0),\n    year NUMBER(38,0),\n    make VARCHAR(16777216),\n    model VARCHAR(16777216),\n    ev_flag NUMBER(38,0),\n    franchise_id NUMBER(38,0),\n    truck_opening_date DATE\n);\n\n-- order_header table build\nCREATE OR REPLACE TABLE tb_voc.raw_pos.order_header\n(\n    order_id NUMBER(38,0),\n    truck_id NUMBER(38,0),\n    location_id FLOAT,\n    customer_id NUMBER(38,0),\n    discount_id VARCHAR(16777216),\n    shift_id NUMBER(38,0),\n    shift_start_time TIME(9),\n    shift_end_time TIME(9),\n    order_channel VARCHAR(16777216),\n    order_ts TIMESTAMP_NTZ(9),\n    served_ts VARCHAR(16777216),\n    order_currency VARCHAR(3),\n    order_amount NUMBER(38,4),\n    order_tax_amount VARCHAR(16777216),\n    order_discount_amount VARCHAR(16777216),\n    order_total NUMBER(38,4)\n);\n\n-- truck_reviews table build\nCREATE OR REPLACE TABLE tb_voc.raw_support.truck_reviews\n(\n    order_id NUMBER(38,0),\n    language VARCHAR(16777216),\n    source VARCHAR(16777216),\n    review VARCHAR(16777216),\n    review_id NUMBER(18,0)\n);\n",
   "execution_count": null
  },
  {
   "cell_type": "markdown",
   "id": "5c147dd5-891e-4a04-9037-5a8959918ec2",
   "metadata": {
    "name": "Data_Views_Configuration_MD",
    "collapsed": false,
    "resultHeight": 1485
   },
   "source": "## Data Views Configuration\n\n### Overview\nThis section creates harmonized and analytics views for customer review data. The views integrate data from multiple raw tables to provide:\n- Unified review information\n- Customer insights\n- Operational metrics\n- Geographic analysis\n\n### View Architecture\nTwo layers of views are created:\n1. Harmonized layer for data integration\n2. Analytics layer for business consumption\n\n### Harmonized View Details\n- **Purpose**: Combines review data with operational context\n- **Key Components**:\n  - Review information (ID, content, language)\n  - Order details\n  - Location data\n  - Customer identification\n  - Brand information\n\n**Data Integration**\n- Links reviews to orders\n- Associates orders with trucks\n- Connects trucks to menu types\n- Provides geographical context\n\n### Analytics View Details\n- **Purpose**: Exposes harmonized data for analysis\n- **Usage**: Business intelligence and reporting\n- **Benefits**: \n  - Simplified access to integrated data\n  - Consistent data structure\n  - Single source of truth\n\n### Implementation Notes\n- Views ensure data consistency\n- DISTINCT clause removes duplicates\n- Date conversion standardizes temporal analysis\n- Joins maintain referential integrity\n\n### Best Practices\n- Monitor view performance\n- Update views when source schemas change\n- Document business rules\n- Maintain clear naming conventions"
  },
  {
   "cell_type": "code",
   "id": "e1f13fc6-7b82-4c3c-a040-6938d6005f8e",
   "metadata": {
    "language": "sql",
    "name": "Data_Views_Configuration",
    "resultHeight": 111
   },
   "outputs": [],
   "source": "\n/*--\n• harmonized view creation\n--*/\n\n-- truck_reviews_v view\nCREATE OR REPLACE VIEW tb_voc.harmonized.truck_reviews_v\n    AS\nSELECT DISTINCT\n    r.review_id,\n    r.order_id,\n    oh.truck_id,\n    r.language,\n    source,\n    r.review,\n    t.primary_city,\n    oh.customer_id,\n    TO_DATE(oh.order_ts) AS date,\n    m.truck_brand_name\nFROM tb_voc.raw_support.truck_reviews r\nJOIN tb_voc.raw_pos.order_header oh\n    ON oh.order_id = r.order_id\nJOIN tb_voc.raw_pos.truck t\n    ON t.truck_id = oh.truck_id\nJOIN tb_voc.raw_pos.menu m\n    ON m.menu_type_id = t.menu_type_id;\n\n/*--\n• analytics view creation\n--*/\n\n-- truck_reviews_v view\nCREATE OR REPLACE VIEW tb_voc.analytics.truck_reviews_v\n    AS\nSELECT * FROM harmonized.truck_reviews_v;\n\n\n----\n\n\n",
   "execution_count": null
  },
  {
   "cell_type": "markdown",
   "id": "303cace5-deb9-4d49-aaf9-255195d6a89e",
   "metadata": {
    "name": "Data_Loading_Process_MD",
    "collapsed": false,
    "resultHeight": 1173
   },
   "source": "## Data Loading Process\n\n### Overview\nThis section handles the initial data load from S3 into our raw tables. The process includes:\n- Loading POS (Point of Sale) data\n- Loading customer review data\n- Optimizing warehouse resources\n\n### Loading Sequence\nThe data is loaded in a specific order to maintain referential integrity:\n1. Menu reference data\n2. Truck information\n3. Transaction records\n4. Customer reviews\n\n### Data Source Details\n- **Source**: S3 staged files\n- **Target**: Raw zone tables\n- **Method**: Bulk COPY operation\n\n**Loading Paths**\n| Table | Source Path |\n|-------|-------------|\n| Menu | raw_pos/menu/ |\n| Truck | raw_pos/truck/ |\n| Orders | raw_pos/order_header/ |\n| Reviews | raw_support/truck_reviews/ |\n\n### Resource Optimization\n- Warehouse size adjusted to medium for balanced performance\n- Optimizes compute resources for data loading\n- Ensures cost-effective processing\n\n### Best Practices\n- Monitor load performance\n- Verify data integrity after loading\n- Check for load errors\n- Scale warehouse as needed"
  },
  {
   "cell_type": "code",
   "id": "b64bd4cb-bb7d-4178-9ee9-5ff1aacf27cc",
   "metadata": {
    "language": "sql",
    "name": "Data_Loading_Process"
   },
   "outputs": [],
   "source": "/*--\nraw zone table load \n--*/\n\n\n-- menu table load\nCOPY INTO tb_voc.raw_pos.menu\nFROM @tb_voc.public.s3load/raw_pos/menu/;\n\n-- truck table load\nCOPY INTO tb_voc.raw_pos.truck\nFROM @tb_voc.public.s3load/raw_pos/truck/;\n\n-- order_header table load\nCOPY INTO tb_voc.raw_pos.order_header\nFROM @tb_voc.public.s3load/raw_pos/order_header/;\n\n-- truck_reviews table load\nCOPY INTO tb_voc.raw_support.truck_reviews\nFROM @tb_voc.public.s3load/raw_support/truck_reviews/;\n\n\n-- scale wh to medium\nALTER WAREHOUSE tasty_ds_wh SET WAREHOUSE_SIZE = 'Medium';\n\n-- setup completion note\nSELECT 'setup is now complete' AS note;",
   "execution_count": null
  }
 ]
}