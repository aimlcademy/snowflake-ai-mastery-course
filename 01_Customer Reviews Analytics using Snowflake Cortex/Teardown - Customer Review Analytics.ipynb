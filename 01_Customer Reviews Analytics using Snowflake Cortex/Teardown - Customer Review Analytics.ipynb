{
 "metadata": {
  "kernelspec": {
   "display_name": "Streamlit Notebook",
   "name": "streamlit"
  }
 },
 "nbformat_minor": 5,
 "nbformat": 4,
 "cells": [
  {
   "cell_type": "markdown",
   "id": "d1711bc8-4b36-4fb7-b57e-0bdf307ecfaa",
   "metadata": {
    "name": "Title",
    "collapsed": false,
    "resultHeight": 74
   },
   "source": "# Teardown - Customer Reviews Analytics using Snowflake Cortex"
  },
  {
   "cell_type": "markdown",
   "id": "97359ca8-7979-4495-b587-0c143daab87a",
   "metadata": {
    "name": "Database_Cleanup_Script_MD",
    "collapsed": false,
    "resultHeight": 539
   },
   "source": "## Database Cleanup Script\n\n### Overview\nThis script performs a complete cleanup of the Voice of Customer (VOC) analysis system database. It systematically removes all database objects in the correct dependency order to avoid constraint violations.\n\n### Object Removal Order\nThe cleanup follows this hierarchical order:\n1. **Views** - Drop dependent views first\n2. **Tables** - Remove data tables across all schemas\n3. **Storage Objects** - Clean up stages and file formats\n4. **Schemas** - Finally remove the schema containers\n\n\n### Implementation Notes\n- Uses IF EXISTS to handle missing objects gracefully\n- Executes under DEMOADMIN role privileges\n- Follows proper object dependency chain"
  },
  {
   "cell_type": "code",
   "id": "8dd0d822-f513-4748-84e3-b9d04e098686",
   "metadata": {
    "language": "sql",
    "name": "Database_Cleanup_Script",
    "collapsed": false,
    "resultHeight": 111
   },
   "outputs": [],
   "source": "USE ROLE DEMOADMIN;\n\n-- Drop all views first\nDROP VIEW IF EXISTS tb_voc.analytics.truck_reviews_v;\nDROP VIEW IF EXISTS tb_voc.harmonized.truck_reviews_v;\n\n-- Drop all tables\nDROP TABLE IF EXISTS tb_voc.raw_support.truck_reviews;\nDROP TABLE IF EXISTS tb_voc.raw_pos.order_header;\nDROP TABLE IF EXISTS tb_voc.raw_pos.truck;\nDROP TABLE IF EXISTS tb_voc.raw_pos.menu;\n\n-- Drop stage and file format\nDROP STAGE IF EXISTS tb_voc.public.s3load;\nDROP FILE FORMAT IF EXISTS tb_voc.public.csv_ff;\n\n-- Drop all schemas\nDROP SCHEMA IF EXISTS tb_voc.analytics;\nDROP SCHEMA IF EXISTS tb_voc.harmonized;\nDROP SCHEMA IF EXISTS tb_voc.raw_support;\nDROP SCHEMA IF EXISTS tb_voc.raw_pos;\nDROP SCHEMA IF EXISTS tb_voc.public;\n",
   "execution_count": null
  },
  {
   "cell_type": "markdown",
   "id": "1a76de40-171f-4477-b5a9-c2324cde47a9",
   "metadata": {
    "name": "Final_Database_Cleanup_MD",
    "collapsed": false,
    "resultHeight": 368
   },
   "source": "## Final Database Cleanup\n\n### Overview\nThis script performs the final cleanup step by removing the core database infrastructure:\n1. **Voice of Customer Database** - Removes the entire VOC database\n2. **Data Warehouse** - Terminates and removes the compute resources\n\n### Implementation Notes\n- Removes all database objects and data in a single operation\n- Cleans up compute resources to prevent unnecessary costs\n- Uses IF EXISTS clause for idempotent execution"
  },
  {
   "cell_type": "code",
   "id": "056b75e9-7642-4579-aba4-c86275c5bdf5",
   "metadata": {
    "language": "sql",
    "name": "Final_Database_Cleanup",
    "resultHeight": 111
   },
   "outputs": [],
   "source": "-- Drop database\nDROP DATABASE IF EXISTS tb_voc;\n\n-- Suspend and drop warehouse\nDROP WAREHOUSE IF EXISTS tasty_ds_wh;\n\n-- Verify cleanup\nSELECT 'Cleanup is now complete' AS note;",
   "execution_count": null
  }
 ]
}