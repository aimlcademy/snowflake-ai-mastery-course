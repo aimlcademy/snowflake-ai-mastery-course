{
 "metadata": {
  "kernelspec": {
   "display_name": "Streamlit Notebook",
   "name": "streamlit"
  }
 },
 "nbformat_minor": 5,
 "nbformat": 4,
 "cells": [
  {
   "cell_type": "markdown",
   "id": "dbcee055-e492-445d-b45c-a098e10084fe",
   "metadata": {
    "name": "Title",
    "collapsed": false,
    "resultHeight": 74
   },
   "source": "# Getting started with Cortex Search Optimization"
  },
  {
   "cell_type": "code",
   "id": "4aca5e5e-fa20-4715-8b1a-1cdcf210b231",
   "metadata": {
    "language": "sql",
    "name": "verify_env",
    "collapsed": false,
    "resultHeight": 0
   },
   "outputs": [],
   "source": "-- verify current environment\nSELECT \n    CURRENT_WAREHOUSE(),\n    CURRENT_DATABASE(),\n    CURRENT_SCHEMA(),\n    CURRENT_ROLE();",
   "execution_count": null
  },
  {
   "cell_type": "markdown",
   "id": "d1692506-4c68-4f94-b892-8929e93286ba",
   "metadata": {
    "name": "Step_1_Warehouse_Setup",
    "collapsed": false,
    "resultHeight": 420
   },
   "source": "#  Step 1: Role and Warehouse Setup\n\n### Overview\nThis script configures a basic Snowflake compute environment by:\n- Switching to the demoadmin role for administrative access\n- Creating a small warehouse optimized for basic workloads\n\n### Configuration Details\nThe warehouse is configured with:\n- Small compute size for cost-effective processing\n- 10-minute auto-suspend to optimize credit usage \n- Auto-resume enabled for seamless query execution"
  },
  {
   "cell_type": "code",
   "id": "1f344ab1-7b93-41d4-9e54-9f98d7a6fa00",
   "metadata": {
    "language": "sql",
    "name": "cell4",
    "collapsed": false,
    "resultHeight": 0
   },
   "outputs": [],
   "source": "USE ROLE demoadmin;\nCREATE WAREHOUSE \"MY_WH\" \nWITH \n    WAREHOUSE_SIZE = 'SMALL'\n    AUTO_SUSPEND = 600\n    AUTO_RESUME = TRUE;\n",
   "execution_count": null
  },
  {
   "cell_type": "markdown",
   "id": "2db32888-cd9e-4e64-8394-7ddaf685dc32",
   "metadata": {
    "name": "Step_2_Acquire_Data",
    "collapsed": false,
    "resultHeight": 735
   },
   "source": "# Step 2: Acquiring Data from Snowflake Marketplace\n\n## Data Acquisition from Snowflake Marketplace\n\n### Overview\nThis section guides through the process of acquiring sample data for search optimization testing. The data comes from Cybersyn's LLM Training dataset, which contains various data types suitable for demonstrating search optimization capabilities.\n\n### Data Source Details\nThe LLM Training dataset provides:\n- Multiple supported data types for optimization\n- Real-world data patterns\n- Comprehensive test scenarios\n- Ready-to-use sample data\n\n### Implementation Steps\n1. Access Snowflake Marketplace\n2. Locate Cybersyn's LLM Training dataset\n3. Complete user profile if needed\n4. Create shared database\n5. Prepare for data querying"
  },
  {
   "cell_type": "markdown",
   "id": "0bed4197-950b-478c-b9e4-c2f73ef5bcbd",
   "metadata": {
    "name": "Step_3_DB_Setup",
    "collapsed": false,
    "resultHeight": 538
   },
   "source": "# Step 3: Data Setup\n## Database and Schema Setup\n\n### Overview\nThis script initializes the database environment for search optimization by:\n- Setting appropriate role and warehouse context\n- Creating a new database for LLM training\n- Displaying available schemas\n\n### Configuration Details\nThe setup includes:\n- Using demoadmin role with required privileges\n- Using an existing warehouse for compute resources\n- Creating a fresh database named LLM_TRAINING_SO\n- Verifying schema configuration"
  },
  {
   "cell_type": "code",
   "id": "f820ce39-483f-43c1-ae3e-954752630b18",
   "metadata": {
    "language": "sql",
    "name": "cell5",
    "collapsed": false,
    "resultHeight": 0
   },
   "outputs": [],
   "source": "//Note: Use appropriate role having required privileges as mentioned \n//https://docs.snowflake.com/en/user-guide/search-optimization/enabling#required-access-control-privileges\nUSE ROLE demoadmin;\n\n//Note: Substitute warehouse name my_wh with your warehouse name if different\nUSE WAREHOUSE my_wh;\n\n//Note: Substitute database name so_analysis with your choice of database name(if required)\nCREATE OR REPLACE DATABASE LLM_TRAINING_SO;\n\nUSE DATABASE LLM_TRAINING_SO;\n\nSHOW SCHEMAS;",
   "execution_count": null
  },
  {
   "cell_type": "markdown",
   "id": "d6112e39-d155-4e0d-be0d-69e7b09f6240",
   "metadata": {
    "name": "cell33",
    "collapsed": false,
    "resultHeight": 406
   },
   "source": "## Schema Creation and Warehouse Scaling\n\n### Overview\nThis script performs two key operations:\n- Creates and sets up a custom schema for data organization\n- Scales up the warehouse compute capacity for improved performance\n\n### Configuration Details\nThe setup includes:\n- Creating a new CYBERSYN schema within the current database\n- Upgrading warehouse size to 4X-Large for handling larger workloads\n- Setting appropriate schema context for subsequent operations"
  },
  {
   "cell_type": "code",
   "id": "c124b6c1-74ba-44d9-8d86-e6ae527f3eaf",
   "metadata": {
    "language": "sql",
    "name": "cell6",
    "collapsed": false,
    "resultHeight": 0
   },
   "outputs": [],
   "source": "\n\n//Note: Create Schema name of your choice if you do not want to use PUBLIC schema\nUSE SCHEMA public;\nCREATE SCHEMA CYBERSYN;\nUSE SCHEMA CYBERSYN;\n\n//Note: Substitute my_wh with your warehouse name if different and use warehouse size of your choice\nALTER WAREHOUSE my_wh set warehouse_size='4x-large';",
   "execution_count": null
  },
  {
   "cell_type": "markdown",
   "id": "699480a8-298c-4232-9070-255377d72f33",
   "metadata": {
    "name": "cell34",
    "collapsed": false,
    "resultHeight": 460
   },
   "source": "## Data Import Setup\n\n### Overview\nThis script creates a new table by copying data from an existing OpenAlex works index. \nThe operation involves:\n- Creating a complete copy of the OpenAlex works index\n- Performance depends on warehouse compute capacity\n- Data will be used for search optimization testing\n\n### Performance Note\nThe execution time for this data copy operation varies based on:\n- Configured warehouse size\n- Volume of data being copied\n- Current system load"
  },
  {
   "cell_type": "code",
   "id": "ca047270-bff2-49d0-ae1b-2364ed6b028c",
   "metadata": {
    "language": "sql",
    "name": "cell3",
    "collapsed": false,
    "resultHeight": 0
   },
   "outputs": [],
   "source": "\n\n//This query time will depend on the warehouse size.\nCREATE OR REPLACE TABLE OPENALEX_WORKS_INDEX AS SELECT * FROM LLM_TRAINING.CYBERSYN.OPENALEX_WORKS_INDEX;",
   "execution_count": null
  },
  {
   "cell_type": "markdown",
   "id": "abfee4c6-8755-4558-a2d0-99d8040f9687",
   "metadata": {
    "name": "cell35",
    "collapsed": false,
    "resultHeight": 276
   },
   "source": "## Table Structure Analysis\n\n### Overview\nThis script examines the structure of the OpenAlex works index table, displaying:\n- Column names and their data types\n- Constraints and default values\n- Nullability of columns\n- Any additional column properties or comments"
  },
  {
   "cell_type": "code",
   "id": "5ffa2b47-135b-40b7-9528-453948a0844f",
   "metadata": {
    "language": "sql",
    "name": "cell7",
    "collapsed": false,
    "resultHeight": 0
   },
   "outputs": [],
   "source": "//Note: Check the table details\nDESCRIBE TABLE OPENALEX_WORKS_INDEX;\n",
   "execution_count": null
  },
  {
   "cell_type": "markdown",
   "id": "e6b086b3-35b6-43c5-adcb-fd071f942f3d",
   "metadata": {
    "name": "cell36",
    "collapsed": false,
    "resultHeight": 305
   },
   "source": "## Table Verification and Status Check\n\n### Overview\nThis script displays detailed information about the OpenAlex works index table, including:\n- Table existence in the specified schema\n- Creation timestamp\n- Table size and row count\n- Owner and retention period\n- Additional table properties and parameters"
  },
  {
   "cell_type": "code",
   "id": "da7392d3-1ae7-4e2b-9786-c95239f52e7b",
   "metadata": {
    "language": "sql",
    "name": "cell9",
    "collapsed": false,
    "resultHeight": 0
   },
   "outputs": [],
   "source": "\nSHOW TABLES LIKE 'OPENALEX_WORKS_INDEX' IN SCHEMA LLM_TRAINING_SO.CYBERSYN;",
   "execution_count": null
  },
  {
   "cell_type": "markdown",
   "id": "ab8ec723-9555-4358-8a47-1d5dc381ca9b",
   "metadata": {
    "name": "cell37",
    "collapsed": false,
    "resultHeight": 518
   },
   "source": "## Table DDL Inspection\n\n### Overview\nThis script retrieves the complete Data Definition Language (DDL) statement for the OpenAlex works index table, showing:\n- Full table creation syntax\n- Column definitions and data types\n- Table constraints and properties\n- Storage parameters and clustering information\n\n### Purpose\nExamining the DDL helps in:\n- Understanding the complete table structure\n- Verifying table configuration details\n- Documenting table specifications\n- Planning any necessary modifications"
  },
  {
   "cell_type": "code",
   "id": "e6629e94-2b2a-47c4-81ac-a5b39601a70f",
   "metadata": {
    "language": "sql",
    "name": "cell10",
    "collapsed": false,
    "resultHeight": 0
   },
   "outputs": [],
   "source": "\n//Note: Check the table details by looking at the table DDL.\nSELECT GET_DDL('table','LLM_TRAINING_SO.CYBERSYN.OPENALEX_WORKS_INDEX');",
   "execution_count": null
  },
  {
   "cell_type": "markdown",
   "id": "71669b1c-ab2d-4fbc-8eeb-1338b96eff60",
   "metadata": {
    "name": "cell38",
    "collapsed": false,
    "resultHeight": 492
   },
   "source": "## Data Sample Inspection\n\n### Overview\nThis script retrieves a sample of records from the OpenAlex works index table to:\n- Preview actual data content\n- Verify data quality and format\n- Understand the structure of stored information\n- Confirm successful data loading\n\n### Purpose\nExamining sample data helps in:\n- Validating data import accuracy\n- Understanding data patterns\n- Planning query optimization strategies\n- Identifying potential data quality issues\n\n"
  },
  {
   "cell_type": "code",
   "id": "6df14113-113d-41a0-aec8-464466d15c7c",
   "metadata": {
    "language": "sql",
    "name": "cell8",
    "collapsed": false,
    "resultHeight": 0
   },
   "outputs": [],
   "source": "\n//Note: Check the data (Optional)\nSELECT * FROM LLM_TRAINING_SO.CYBERSYN.OPENALEX_WORKS_INDEX LIMIT 100;",
   "execution_count": null
  },
  {
   "cell_type": "markdown",
   "id": "9b45d02b-bd1e-44bd-b4dc-9ed160017836",
   "metadata": {
    "name": "cell39",
    "collapsed": false,
    "resultHeight": 464
   },
   "source": "## Cache and Warehouse Configuration Reset\n\n### Overview\nThis script prepares the environment for accurate performance testing by:\n- Disabling query result caching\n- Adjusting warehouse size\n- Clearing warehouse-level cache\n\n### Purpose\nThese configuration changes ensure:\n- Clean performance benchmarking\n- Accurate query execution times\n- Consistent test environment\n- Reliable comparison metrics before enabling search optimization"
  },
  {
   "cell_type": "code",
   "id": "d3c8404d-f234-4c95-8823-84ed39e814d7",
   "metadata": {
    "language": "sql",
    "name": "cell11",
    "collapsed": false,
    "resultHeight": 0
   },
   "outputs": [],
   "source": "// Note: Optional to execute the queries before enabling Search Optimization on the table\n\nALTER SESSION SET use_cached_result = false; -- to clear cached data\n\nALTER WAREHOUSE my_wh SET warehouse_size = MEDIUM;\n\nALTER WAREHOUSE my_wh SUSPEND; -- to clear data cached at the warehouse level\n\n",
   "execution_count": null
  },
  {
   "cell_type": "code",
   "id": "6045e73a-0f64-4fb9-8fbe-939ff6865c10",
   "metadata": {
    "language": "sql",
    "name": "cell13",
    "collapsed": false,
    "resultHeight": 0
   },
   "outputs": [],
   "source": "SHOW WAREHOUSES;",
   "execution_count": null
  },
  {
   "cell_type": "markdown",
   "id": "885e3d3d-8998-4ddb-9dab-381fbe6c1177",
   "metadata": {
    "name": "cell40",
    "collapsed": false,
    "resultHeight": 464
   },
   "source": "## Warehouse Size Optimization\n\n### Overview\nThis script modifies warehouse configuration to:\n- Resume warehouse operations\n- Scale down compute resources for cost efficiency\n- Prepare for normal workload operations\n\n### Purpose\nThese adjustments help in:\n- Managing compute costs\n- Right-sizing resources for standard operations\n- Ensuring appropriate resource allocation\n- Transitioning from testing to production settings"
  },
  {
   "cell_type": "code",
   "id": "d9dbf728-49eb-449e-861a-5fb0d3794ba4",
   "metadata": {
    "language": "sql",
    "name": "cell12",
    "collapsed": false,
    "resultHeight": 0
   },
   "outputs": [],
   "source": "-- ALTER WAREHOUSE my_wh RESUME;\n\nALTER WAREHOUSE my_wh SET warehouse_size= 'X-SMALL';",
   "execution_count": null
  },
  {
   "cell_type": "markdown",
   "id": "067a341c-c2fc-4500-90b4-19b4e944972a",
   "metadata": {
    "name": "cell41",
    "collapsed": false,
    "resultHeight": 492
   },
   "source": "## Single Record Lookup Performance Test\n\n### Overview\nThis script performs a targeted query to:\n- Retrieve a specific record using mag_work_id\n- Demonstrate baseline query performance\n- Test non-optimized search behavior\n- Establish performance benchmark\n\n### Performance Note\nThis query typically:\n- Takes approximately 2 minutes to execute\n- Performs a full table scan\n- Serves as a baseline for comparing optimized vs non-optimized queries\n- Will be used to demonstrate search optimization benefits"
  },
  {
   "cell_type": "code",
   "id": "9e9c4725-d33b-45d6-8201-1d214bfc6b1a",
   "metadata": {
    "language": "sql",
    "name": "cell14",
    "collapsed": false,
    "resultHeight": 0
   },
   "outputs": [],
   "source": "// Note: This query will take ~2 minutes \nSELECT *  from LLM_TRAINING_SO.CYBERSYN.OPENALEX_WORKS_INDEX where mag_work_id = 2240388798; \n",
   "execution_count": null
  },
  {
   "cell_type": "markdown",
   "id": "360f56ed-4fc6-4a83-86ac-e50922ddb877",
   "metadata": {
    "name": "cell42",
    "collapsed": false,
    "resultHeight": 492
   },
   "source": "## Text Search Performance Test\n\n### Overview\nThis script executes a case-insensitive title search to:\n- Demonstrate text-based search performance\n- Test non-optimized string matching\n- Establish baseline for text search operations\n- Compare with future search optimization improvements\n\n### Performance Note\nThis query characteristics:\n- Approximately 2.5 minutes execution time\n- Uses case-insensitive (ILIKE) pattern matching\n- Performs full table scan for text search\n- Serves as benchmark for text search optimization"
  },
  {
   "cell_type": "code",
   "id": "165377fb-8b2b-4a76-a535-4c42adc24660",
   "metadata": {
    "language": "sql",
    "name": "cell15",
    "collapsed": false,
    "resultHeight": 0
   },
   "outputs": [],
   "source": "// Note: This query will take ~2.5 minutes \nSELECT *  from LLM_TRAINING_SO.CYBERSYN.OPENALEX_WORKS_INDEX where work_title ilike 'Cross-domain applications of multimodal human-computer interfaces'; \n",
   "execution_count": null
  },
  {
   "cell_type": "markdown",
   "id": "64df3e54-d87b-4140-b4fc-f97aca54deaa",
   "metadata": {
    "name": "cell43",
    "collapsed": false,
    "resultHeight": 492
   },
   "source": "## JSON Path Search Performance Test\n\n### Overview\nThis script performs a complex search operation to:\n- Search within a JSON structure using path notation\n- Test case-insensitive matching on nested JSON fields\n- Demonstrate baseline performance for semi-structured data queries\n- Establish benchmark for JSON search optimization\n\n### Performance Note\nQuery characteristics include:\n- Approximately 3 minutes execution time\n- Searches nested JSON path using ILIKE\n- Performs full table scan on semi-structured data\n- Will be used to compare with optimized JSON search performance"
  },
  {
   "cell_type": "code",
   "id": "5eb9d653-db8b-4b28-aaba-9736e527a9a4",
   "metadata": {
    "language": "sql",
    "name": "cell16",
    "collapsed": false,
    "resultHeight": 0
   },
   "outputs": [],
   "source": "// Note: This query will take ~3 minutes \nSELECT * from LLM_TRAINING_SO.CYBERSYN.OPENALEX_WORKS_INDEX  where WORK_PRIMARY_LOCATION:source:display_name ilike 'Eco-forum'; \n",
   "execution_count": null
  },
  {
   "cell_type": "markdown",
   "id": "b96d58d0-559e-4eba-b224-8d6713b856c9",
   "metadata": {
    "name": "cell44",
    "collapsed": false,
    "resultHeight": 492
   },
   "source": "## JSON Field Equality Search Performance Test\n\n### Overview\nThis script tests equality search performance on:\n- Nested JSON field using path notation\n- Exact matching on ISSN-L identifier\n- Deep JSON structure traversal\n- Non-optimized variant column search\n\n### Performance Note\nQuery characteristics include:\n- Approximately 4 minutes execution time\n- Performs exact matching on JSON path\n- Requires full table scan for variant data\n- Demonstrates baseline performance for JSON equality searches"
  },
  {
   "cell_type": "code",
   "id": "fa52f82a-749d-4215-95ae-7c338575cda1",
   "metadata": {
    "language": "sql",
    "name": "cell17",
    "collapsed": false,
    "resultHeight": 0
   },
   "outputs": [],
   "source": "// Note: This query will take ~4 minutes \nSELECT * from LLM_TRAINING_SO.CYBERSYN.OPENALEX_WORKS_INDEX  where WORK_PRIMARY_LOCATION:source:issn_l = '2615-6946'; ",
   "execution_count": null
  },
  {
   "cell_type": "markdown",
   "id": "c953833d-a457-4ec8-bbad-151149d339f6",
   "metadata": {
    "name": "cell45",
    "collapsed": false,
    "resultHeight": 492
   },
   "source": "## Search Optimization Cost Estimation\n\n### Overview\nThis script estimates the resource costs for implementing search optimization on:\n- Exact matching for MAG_WORK_ID\n- Case-sensitive matching for source display name in JSON\n- Substring matching for work titles\n- Substring matching for ISSN-L in JSON structure\n\n### Purpose\nThe estimation helps in:\n- Planning resource allocation\n- Understanding storage impact\n- Evaluating maintenance costs\n- Making informed optimization decisions"
  },
  {
   "cell_type": "code",
   "id": "e37fd5cf-5200-45d3-8192-4b9280c01e16",
   "metadata": {
    "language": "sql",
    "name": "cell18",
    "collapsed": false,
    "resultHeight": 0
   },
   "outputs": [],
   "source": "//Note: Optional but recommended step\n\nSELECT SYSTEM$ESTIMATE_SEARCH_OPTIMIZATION_COSTS('LLM_TRAINING_SO.CYBERSYN.OPENALEX_WORKS_INDEX',\n                                               'EQUALITY(MAG_WORK_ID),EQUALITY(WORK_PRIMARY_LOCATION:source.display_name),\n                                               SUBSTRING(WORK_TITLE),SUBSTRING(WORK_PRIMARY_LOCATION:source.issn_l)')\nAS estimate_for_columns_without_search_optimization;",
   "execution_count": null
  },
  {
   "cell_type": "markdown",
   "id": "90002750-0905-4161-ba0f-8c33f35cb043",
   "metadata": {
    "name": "cell46",
    "collapsed": false,
    "resultHeight": 492
   },
   "source": "## Search Optimization Implementation\n\n### Overview\nThis script implements various search optimization strategies by:\n- Adding equality optimization for numeric IDs\n- Enabling substring search for title text\n- Optimizing JSON field searches\n- Verifying optimization settings\n\n### Optimization Types\nThe implementation includes:\n1. Numeric field optimization for exact matches\n2. Text field optimization for partial matches\n3. JSON field optimization for both exact and partial matches\n4. Table verification after optimization"
  },
  {
   "cell_type": "code",
   "id": "de13bf3a-0fe1-49d8-aa15-0423cd5ff15c",
   "metadata": {
    "language": "sql",
    "name": "cell19",
    "collapsed": false,
    "resultHeight": 0
   },
   "outputs": [],
   "source": "// Defining Search Optimization on NUMBER fields For Equality\nALTER TABLE LLM_TRAINING_SO.CYBERSYN.OPENALEX_WORKS_INDEX ADD SEARCH OPTIMIZATION ON EQUALITY(MAG_WORK_ID);\n\n// Defining Search Optimization on VARCHAR fields optimized for Wildcard search\nALTER TABLE LLM_TRAINING_SO.CYBERSYN.OPENALEX_WORKS_INDEX ADD SEARCH OPTIMIZATION ON SUBSTRING(WORK_TITLE);\n\n// Defining Search Optimization on VARIANT field For Equality\nALTER TABLE LLM_TRAINING_SO.CYBERSYN.OPENALEX_WORKS_INDEX ADD SEARCH OPTIMIZATION ON SUBSTRING(WORK_PRIMARY_LOCATION:source.display_name);\n\n// Defining Search Optimization on VARIANT field For Wildcard search\nALTER TABLE LLM_TRAINING_SO.CYBERSYN.OPENALEX_WORKS_INDEX ADD SEARCH OPTIMIZATION ON EQUALITY(WORK_PRIMARY_LOCATION:source.issn_l);\n\nSHOW TABLES LIKE 'OPENALEX_WORKS_INDEX' IN SCHEMA LLM_TRAINING_SO.CYBERSYN;",
   "execution_count": null
  },
  {
   "cell_type": "markdown",
   "id": "677a7467-6647-4273-a1e1-33c815caf1f8",
   "metadata": {
    "name": "cell47",
    "collapsed": false,
    "resultHeight": 492
   },
   "source": "## Search Optimization Status Verification\n\n### Overview\nThis script inspects the search optimization configuration to:\n- Verify optimization status for each configured column\n- Check if indexing process is complete\n- Confirm active status of optimization methods\n- Display detailed optimization settings\n\n### Expected Results\nThe query returns:\n- Expression IDs for each optimization\n- Search methods (EQUALITY/SUBSTRING)\n- Target columns and their data types\n- Active status indicators"
  },
  {
   "cell_type": "code",
   "id": "8162a7c4-6f3a-479c-ba6e-bcea42b07de9",
   "metadata": {
    "language": "sql",
    "name": "cell20",
    "collapsed": false,
    "resultHeight": 0
   },
   "outputs": [],
   "source": "DESCRIBE SEARCH OPTIMIZATION ON LLM_TRAINING_SO.CYBERSYN.OPENALEX_WORKS_INDEX;\n",
   "execution_count": null
  },
  {
   "cell_type": "markdown",
   "id": "d24a19ed-bc27-4403-bf3c-f7dc2b61c3b5",
   "metadata": {
    "name": "Step_4_Equality_And_Wildcard_Search",
    "collapsed": false,
    "resultHeight": 567
   },
   "source": "# Step 4: Equality and Wildcard Search\n## Optimized ID Search Performance Test\n\n### Overview\nThis script tests the performance of:\n- Exact matching on mag_work_id after optimization\n- Single record retrieval efficiency\n- Search optimization effectiveness for numeric fields\n- Query execution time improvement\n\n### Purpose\nThe query demonstrates:\n- Performance gains from equality search optimization\n- Reduced partition scanning\n- Improved response time for exact matches\n- Optimization effectiveness for numeric fields"
  },
  {
   "cell_type": "code",
   "id": "7a92b290-c2de-487b-ac83-3a83cfa39e3d",
   "metadata": {
    "language": "sql",
    "name": "cell21",
    "collapsed": false,
    "resultHeight": 0
   },
   "outputs": [],
   "source": "SELECT *  \n  FROM LLM_TRAINING_SO.CYBERSYN.OPENALEX_WORKS_INDEX \n  WHERE \n    mag_work_id = 2240388798;",
   "execution_count": null
  },
  {
   "cell_type": "markdown",
   "id": "1258498a-ee5c-4a54-895b-0f11fc167a5a",
   "metadata": {
    "name": "cell49",
    "collapsed": false,
    "resultHeight": 492
   },
   "source": "## Optimized Title Search Performance Test\n\n### Overview\nThis script evaluates:\n- Case-insensitive title search performance after optimization\n- Substring search optimization effectiveness\n- Query execution improvement for text fields\n- Performance gains for ILIKE operations\n\n### Purpose\nThe query demonstrates:\n- Optimized text search capabilities\n- Performance improvement for case-insensitive matches\n- Effectiveness of substring search optimization\n- Reduced execution time compared to pre-optimization baseline"
  },
  {
   "cell_type": "code",
   "id": "c952d33a-f12e-4723-8fe5-778ab0648482",
   "metadata": {
    "language": "sql",
    "name": "cell22",
    "collapsed": false,
    "resultHeight": 0
   },
   "outputs": [],
   "source": "SELECT *  \n  FROM LLM_TRAINING_SO.CYBERSYN.OPENALEX_WORKS_INDEX \n  WHERE \n    work_title ilike 'Cross-domain applications of multimodal human-computer interfaces'; ",
   "execution_count": null
  },
  {
   "cell_type": "markdown",
   "id": "5815a457-c1ec-4857-98bc-91bdd13449e3",
   "metadata": {
    "name": "Step_5_Search_Variant_Data",
    "collapsed": false,
    "resultHeight": 567
   },
   "source": "# Step 5: Searching in Variant data\n## Optimized JSON Field Search Performance Test\n\n### Overview\nThis script evaluates:\n- Exact matching on JSON field after optimization\n- Search performance for nested JSON paths\n- Optimization effectiveness for variant columns\n- Query execution improvement for ISSN-L searches\n\n### Purpose\nThe query demonstrates:\n- Performance gains for JSON field searches\n- Reduced data scanning requirements\n- Improved execution time from ~4 minutes to seconds\n- Effectiveness of equality optimization on variant data"
  },
  {
   "cell_type": "code",
   "id": "464fbc6a-6845-4377-aa06-de8942c85dc8",
   "metadata": {
    "language": "sql",
    "name": "cell23",
    "collapsed": false,
    "resultHeight": 0
   },
   "outputs": [],
   "source": "select * \n  from LLM_TRAINING_SO.CYBERSYN.OPENALEX_WORKS_INDEX  \n  where \n    WORK_PRIMARY_LOCATION:source:issn_l = '2615-6946';",
   "execution_count": null
  },
  {
   "cell_type": "markdown",
   "id": "6681c070-374f-4648-b116-12459ba27802",
   "metadata": {
    "name": "cell51",
    "collapsed": false,
    "resultHeight": 492
   },
   "source": "## Optimized JSON Text Search Performance Test\n\n### Overview\nThis script evaluates:\n- Case-insensitive search in JSON fields after optimization\n- Performance improvement for ILIKE operations on nested data\n- Search optimization effectiveness for variant columns\n- Query execution improvement for display name searches\n\n### Purpose\nThe query demonstrates:\n- Performance gains from substring search optimization on JSON\n- Reduced execution time from ~3 minutes to seconds\n- Improved efficiency for case-insensitive pattern matching\n- Effectiveness of JSON path optimization"
  },
  {
   "cell_type": "code",
   "id": "d014130c-3aa1-4701-aea3-3aa5062d3b72",
   "metadata": {
    "language": "sql",
    "name": "cell24",
    "collapsed": false,
    "resultHeight": 0
   },
   "outputs": [],
   "source": "select * \n  from LLM_TRAINING_SO.CYBERSYN.OPENALEX_WORKS_INDEX  \n  where \n    WORK_PRIMARY_LOCATION:source:display_name ilike 'Eco-forum'; ",
   "execution_count": null
  },
  {
   "cell_type": "markdown",
   "id": "a61273ed-5fe3-4a9d-ab7b-48fdcaac1b4f",
   "metadata": {
    "name": "Step_6_Queries_No_Benefit",
    "collapsed": false,
    "resultHeight": 605
   },
   "source": "# Step 6: Queries that are not benefitting from Search Optimization\n## Optimized Publication Search Performance Test\n\n### Overview\nThis script evaluates:\n- Case-insensitive search for publication names in JSON\n- Performance of optimized variant column searches\n- Pattern matching efficiency for source names\n- Search optimization impact on JSON path queries\n\n### Purpose\nThe query demonstrates:\n- Improved performance for publication name searches\n- Efficient handling of ILIKE operations on JSON fields\n- Reduced data scanning through optimization\n- Enhanced query response time for variant columns"
  },
  {
   "cell_type": "code",
   "id": "67bcfe9d-69d1-48ec-9c78-838de6dc6a5b",
   "metadata": {
    "language": "sql",
    "name": "cell25",
    "collapsed": false,
    "resultHeight": 0
   },
   "outputs": [],
   "source": "select * \n  from LLM_TRAINING_SO.CYBERSYN.OPENALEX_WORKS_INDEX  \n  where \n    WORK_PRIMARY_LOCATION:source:display_name ilike 'Reactions Weekly'; ",
   "execution_count": null
  },
  {
   "cell_type": "markdown",
   "id": "40ff7f4f-52e1-4ebb-9930-a88ff69a3477",
   "metadata": {
    "name": "Cleanup",
    "collapsed": false,
    "resultHeight": 74
   },
   "source": "# Cleanup"
  },
  {
   "cell_type": "code",
   "id": "74735908-e87e-4b4c-9d7c-7d325d935002",
   "metadata": {
    "language": "sql",
    "name": "cell2",
    "collapsed": false,
    "resultHeight": 111
   },
   "outputs": [],
   "source": "-- Use the same role\nUSE ROLE demoadmin;\n\n-- First remove search optimizations from the table\nALTER TABLE IF EXISTS LLM_TRAINING_SO.CYBERSYN.OPENALEX_WORKS_INDEX DROP SEARCH OPTIMIZATION ON EQUALITY(MAG_WORK_ID);\nALTER TABLE IF EXISTS LLM_TRAINING_SO.CYBERSYN.OPENALEX_WORKS_INDEX DROP SEARCH OPTIMIZATION ON SUBSTRING(WORK_TITLE);\nALTER TABLE IF EXISTS LLM_TRAINING_SO.CYBERSYN.OPENALEX_WORKS_INDEX DROP SEARCH OPTIMIZATION ON SUBSTRING(WORK_PRIMARY_LOCATION:source.display_name);\nALTER TABLE IF EXISTS LLM_TRAINING_SO.CYBERSYN.OPENALEX_WORKS_INDEX DROP SEARCH OPTIMIZATION ON EQUALITY(WORK_PRIMARY_LOCATION:source.issn_l);",
   "execution_count": null
  },
  {
   "cell_type": "code",
   "id": "4c8e9d70-9c52-4e7b-a31b-8be02382b439",
   "metadata": {
    "language": "sql",
    "name": "cell28",
    "collapsed": false,
    "resultHeight": 111
   },
   "outputs": [],
   "source": "\n-- Drop the table\nDROP TABLE IF EXISTS LLM_TRAINING_SO.CYBERSYN.OPENALEX_WORKS_INDEX;\n\n-- Drop the schema\nDROP SCHEMA IF EXISTS LLM_TRAINING_SO.CYBERSYN;\n\n-- Drop the database\nDROP DATABASE IF EXISTS LLM_TRAINING_SO;",
   "execution_count": null
  },
  {
   "cell_type": "code",
   "id": "481d0d60-9a25-43c7-83c2-ea2c47352ee9",
   "metadata": {
    "language": "sql",
    "name": "cell30",
    "collapsed": false,
    "resultHeight": 146
   },
   "outputs": [],
   "source": "use warehouse compute_wh;\nshow warehouses;",
   "execution_count": null
  },
  {
   "cell_type": "code",
   "id": "437c7a90-cedd-42f2-89d9-85730973c7a4",
   "metadata": {
    "language": "sql",
    "name": "cell29",
    "collapsed": false,
    "resultHeight": 111
   },
   "outputs": [],
   "source": "\n\n-- Suspend and drop the warehouse\nALTER WAREHOUSE IF EXISTS my_wh SUSPEND;\nDROP WAREHOUSE IF EXISTS my_wh;",
   "execution_count": null
  },
  {
   "cell_type": "code",
   "id": "29f7e6e3-b18e-4e98-85b8-a22980607779",
   "metadata": {
    "language": "sql",
    "name": "cell27",
    "collapsed": false,
    "resultHeight": 111
   },
   "outputs": [],
   "source": "\n\n\n-- Reset session parameter\nALTER SESSION SET use_cached_result = true;",
   "execution_count": null
  }
 ]
}