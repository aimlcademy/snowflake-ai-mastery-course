{
 "metadata": {
  "kernelspec": {
   "display_name": "Streamlit Notebook",
   "name": "streamlit"
  }
 },
 "nbformat_minor": 5,
 "nbformat": 4,
 "cells": [
  {
   "cell_type": "markdown",
   "id": "7f3c61b3-50e6-4021-9aeb-410ad99ddc6d",
   "metadata": {
    "name": "Title",
    "collapsed": false,
    "resultHeight": 112
   },
   "source": "# Build Rag Based Equipment Maintenance App Using Snowflake Cortex"
  },
  {
   "cell_type": "markdown",
   "id": "bdbc5b92-e06d-4827-9e3c-07cebd194c8a",
   "metadata": {
    "name": "Step_1_Setup_Env",
    "collapsed": false,
    "resultHeight": 60
   },
   "source": "## Step 1: Setup Environment"
  },
  {
   "cell_type": "markdown",
   "id": "da64ef27-680b-4048-904c-9e8266873080",
   "metadata": {
    "name": "cell29",
    "collapsed": false,
    "resultHeight": 758
   },
   "source": "\n## Database Schema Setup for LLM RAG System\n\n### Purpose\nThis SQL script establishes the core database infrastructure for a Retrieval Augmented Generation (RAG) system. The setup creates a dedicated environment for LLM operations with appropriate compute and storage resources.\n\n### Architecture Components\n1. **Warehouse Layer**\n   - Medium-sized compute resources\n   - 5-minute auto-suspension for cost optimization\n\n2. **Database Layer** \n   - Dedicated LLM database\n   - RAG-specific schema for organized data storage\n\n### Technical Specifications\n- Warehouse: Medium size with 300s auto-suspend\n- Database Name: LLM\n- Schema: RAG\n- Role: DEMOADMIN for administrative access\n\n### Usage Notes\n- The warehouse auto-suspends after 5 minutes of inactivity\n- All RAG-related objects should be created within the LLM.RAG schema\n\n"
  },
  {
   "cell_type": "code",
   "id": "6df2ae9e-f55d-42d8-991d-f347fb16d712",
   "metadata": {
    "language": "sql",
    "name": "cell4",
    "collapsed": false,
    "resultHeight": 0
   },
   "outputs": [],
   "source": "USE ROLE DEMOADMIN;\n\nCREATE OR REPLACE WAREHOUSE Medium WAREHOUSE_SIZE='Medium' AUTO_SUSPEND = 300;\nCREATE OR REPLACE DATABASE LLM;\nCREATE OR REPLACE SCHEMA RAG;\n\nUSE LLM.RAG;",
   "execution_count": null
  },
  {
   "cell_type": "markdown",
   "id": "e0597491-7c7c-42bd-8db8-f990c975df16",
   "metadata": {
    "name": "cell30",
    "collapsed": false,
    "resultHeight": 500
   },
   "source": "\n## Internal Stage Creation for RAG System\n\n### Purpose\nCreates a dedicated internal stage to store and manage repair manual documents for the RAG-based maintenance system.\n\n### Technical Details\n- Stage Name: REPAIR_MANUALS\n- Type: Internal Snowflake stage\n- Access: Controlled through standard Snowflake permissions\n- Supported Files: PDF documents containing equipment repair manuals\n\n### Usage\n- Upload repair manuals directly through Snowsight UI\n- Access documents for processing and vectorization\n- Enables secure document storage within Snowflake environment\n"
  },
  {
   "cell_type": "code",
   "id": "b307db25-f18d-4395-babd-e3937b006ae2",
   "metadata": {
    "language": "sql",
    "name": "cell5",
    "collapsed": false,
    "resultHeight": 0
   },
   "outputs": [],
   "source": "CREATE STAGE REPAIR_MANUALS;",
   "execution_count": null
  },
  {
   "cell_type": "markdown",
   "id": "5ed9979d-5a3c-402d-be28-c7aa11a785cf",
   "metadata": {
    "name": "Step_2_Manual_Upload",
    "collapsed": false,
    "resultHeight": 1139
   },
   "source": "## Step 2: Repair Manual Upload Guide\n\n### Purpose\nInstructions for obtaining and uploading equipment repair manuals to Snowflake internal stage.\n\n### Required Manuals\n- Otto 1500 Manual\n- Otto 600 Manual\n- Otto 100 Manual\n- Lifter Manual\n\n### Manual Acquisition\n1. **GitHub Repository Access**\n   - HTTPS Clone:\n     ```bash\n     git clone https://github.com/Snowflake-Labs/sfguide-build-rag-based-equipment-maintenance-app-using-snowflake-cortex.git\n     ```\n   - SSH Clone:\n     ```bash\n     git clone git@github.com:Snowflake-Labs/sfguide-build-rag-based-equipment-maintenance-app-using-snowflake-cortex.git\n     ```\n\n### Upload Process\n1. **Access Snowflake UI**\n   - Navigate to Data -> Databases\n   - Select LLM database\n   - Open RAG schema\n   - Access Stages -> REPAIR_MANUALS\n\n2. **Upload Files**\n   - Click \"+ Files\" button in top right\n   - Browse to downloaded manual PDFs\n   - Select all four manuals\n   - Confirm upload completion\n\n### Validation\n- Verify all manuals appear in stage\n- Ensure files are readable\n- Check file permissions"
  },
  {
   "cell_type": "markdown",
   "id": "3aa603d5-8421-4717-a6f5-472d07965fa6",
   "metadata": {
    "name": "Step_3_Data_Engineering",
    "collapsed": false,
    "resultHeight": 60
   },
   "source": "## Step 3: Data Engineering"
  },
  {
   "cell_type": "markdown",
   "id": "d9d108dd-42f3-48fa-9703-783e4795caea",
   "metadata": {
    "name": "cell31",
    "collapsed": false,
    "resultHeight": 765
   },
   "source": "## PDF Parser Function Creation\n\n### Purpose\nCreates a Python UDF (User-Defined Function) that extracts text content from PDF files stored in Snowflake stages.\n\n### Technical Specifications\n- Function Name: py_read_pdf\n- Input: File path (string)\n- Output: Extracted text (string)\n- Runtime: Python 3.8\n- Dependencies: \n  - snowflake-snowpark-python\n  - pypdf2\n\n### Implementation Details\n- Uses PyPDF2 library for PDF processing\n- Leverages SnowflakeFile for secure file access\n- Processes PDF files page by page\n- Concatenates text from all pages into single string\n\n### Usage\n- Call function with stage file path\n- Returns extracted text for further processing\n- Supports RAG pipeline document ingestion"
  },
  {
   "cell_type": "code",
   "id": "b6f9cb51-df27-4f24-9861-0a72d9e28ea1",
   "metadata": {
    "language": "sql",
    "name": "cell6",
    "collapsed": false,
    "resultHeight": 0
   },
   "outputs": [],
   "source": "----------------------------------------------------------------------\n-- Create a python function to parse PDF files\n----------------------------------------------------------------------  \nCREATE OR REPLACE FUNCTION py_read_pdf(file string)\n    returns string\n    language python\n    runtime_version = 3.8\n    packages = ('snowflake-snowpark-python','pypdf2')\n    handler = 'read_file'\nas\n$$\nfrom PyPDF2 import PdfFileReader\nfrom snowflake.snowpark.files import SnowflakeFile\nfrom io import BytesIO\ndef read_file(file_path):\n    whole_text = \"\"\n    with SnowflakeFile.open(file_path, 'rb') as file:\n        f = BytesIO(file.readall())\n        pdf_reader = PdfFileReader(f)\n        whole_text = \"\"\n        for page in pdf_reader.pages:\n            whole_text += page.extract_text()\n    return whole_text\n$$;",
   "execution_count": null
  },
  {
   "cell_type": "markdown",
   "id": "f3016633-075e-49f9-9ce5-6419d8965daf",
   "metadata": {
    "name": "cell32",
    "collapsed": false,
    "resultHeight": 798
   },
   "source": "## PDF Content Storage Table Creation\n\n### Purpose\nCreates a table to store extracted text content from PDF repair manuals, using the previously defined PDF parser function.\n\n### Table Structure\n- Table Name: repair_manuals\n- Columns:\n  - file_name: Name of source PDF file\n  - contents: Extracted text content from PDF\n\n### Technical Implementation\n1. Uses CTE to get unique filenames from stage\n2. Processes each PDF using py_read_pdf function\n3. Stores results in persistent table\n4. Leverages build_scoped_file_url for secure file access\n\n### Data Flow\n1. Reads filenames from REPAIR_MANUALS stage\n2. Extracts text content using Python UDF\n3. Stores processed content in structured table\n\n### Validation\n- Includes verification query to check stored content\n- Enables immediate data quality assessment"
  },
  {
   "cell_type": "code",
   "id": "4f47833e-ae62-445c-a9f0-b4e796a0b8b0",
   "metadata": {
    "language": "sql",
    "name": "cell7",
    "collapsed": false,
    "resultHeight": 0
   },
   "outputs": [],
   "source": "USE ROLE DEMOADMIN;\nUSE DATABASE LLM;\nUSE SCHEMA RAG;\n----------------------------------------------------------------------\n-- Create a table for storing the text parsed from each PDF\n----------------------------------------------------------------------  \nCREATE OR REPLACE TABLE repair_manuals AS\n    WITH filenames AS (SELECT DISTINCT METADATA$FILENAME AS file_name FROM @repair_manuals)\n    SELECT \n        file_name, \n        py_read_pdf(build_scoped_file_url(@repair_manuals, file_name)) AS contents\n    FROM filenames;\n\n--Validate\nSELECT * FROM repair_manuals;",
   "execution_count": null
  },
  {
   "cell_type": "markdown",
   "id": "53b9b97e-05aa-4a9a-8c5b-aed87afec4f3",
   "metadata": {
    "name": "cell33",
    "collapsed": false,
    "resultHeight": 856
   },
   "source": "## Text Chunking Implementation for RAG System\n\n### Purpose\nCreates a table of chunked text from repair manual documents, optimizing content for RAG processing by breaking large documents into manageable, overlapping segments.\n\n### Technical Specifications\n- Table Name: repair_manuals_chunked\n- Chunk Size: 3000 characters\n- Overlap Size: 1000 characters\n- Implementation: Recursive CTE\n\n### Table Structure\n- file_name: Source document identifier\n- chunk_number: Sequential chunk identifier\n- chunk_text: Raw text segment\n- combined_chunk_text: Formatted text with context\n\n### Processing Logic\n1. Initial split: First 3000 characters with 1000 character overlap\n2. Recursive processing: Continues splitting remaining text\n3. Maintains document context through file name prefixing\n4. Preserves sequential order of chunks\n\n### Usage\n- Enables efficient text embedding generation\n- Maintains context through chunk overlap\n- Facilitates precise information retrieval"
  },
  {
   "cell_type": "code",
   "id": "7984a705-c183-463c-a880-2e783ea6fbd3",
   "metadata": {
    "language": "sql",
    "name": "cell8",
    "collapsed": false,
    "resultHeight": 0
   },
   "outputs": [],
   "source": "----------------------------------------------------------------------\n-- Chunk the file contents into 3000 character chunks, overlap each\n-- chunk by 1000 characters.\n----------------------------------------------------------------------\nSET chunk_size = 3000;\nSET overlap = 1000;\nCREATE OR REPLACE TABLE repair_manuals_chunked AS \nWITH RECURSIVE split_contents AS (\n    SELECT \n        file_name,\n        SUBSTRING(contents, 1, $chunk_size) AS chunk_text,\n        SUBSTRING(contents, $chunk_size-$overlap) AS remaining_contents,\n        1 AS chunk_number\n    FROM \n        repair_manuals\n\n    UNION ALL\n\n    SELECT \n        file_name,\n        SUBSTRING(remaining_contents, 1, $chunk_size),\n        SUBSTRING(remaining_contents, $chunk_size+1),\n        chunk_number + 1\n    FROM \n        split_contents\n    WHERE \n        LENGTH(remaining_contents) > 0\n)\nSELECT \n    file_name,\n    chunk_number,\n    chunk_text,\n    CONCAT(\n        'Sampled contents from repair manual [', \n        file_name,\n        ']: ', \n        chunk_text\n    ) AS combined_chunk_text\nFROM \n    split_contents\nORDER BY \n    file_name,\n    chunk_number;\n\n--Validate\nSELECT * FROM repair_manuals_chunked;",
   "execution_count": null
  },
  {
   "cell_type": "markdown",
   "id": "8e666a05-3e67-470a-bd37-1d0dcfaecc85",
   "metadata": {
    "name": "cell34",
    "collapsed": false,
    "resultHeight": 885
   },
   "source": "## Text Vectorization for RAG System\n\n### Purpose\nCreates embeddings for chunked repair manual text using Snowflake Cortex's embedding functionality, preparing the content for semantic search and retrieval.\n\n### Technical Specifications\n- Table Name: repair_manuals_chunked_vectors\n- Model: e5-base-v2\n- Vector Dimension: 768\n- Source: Chunked repair manual text\n\n### Table Structure\n- file_name: Source document identifier\n- chunk_number: Sequential chunk identifier\n- chunk_text: Original text segment\n- combined_chunk_text: Formatted text with context\n- combined_chunk_vector: Text embedding vector\n\n### Implementation Details\n- Uses Snowflake Cortex embed_text_768 function\n- Processes each text chunk into vector representation\n- Maintains original text and metadata\n- Enables semantic similarity search\n\n### Usage\n- Powers semantic search capabilities\n- Enables similarity matching for RAG\n- Facilitates efficient information retrieval"
  },
  {
   "cell_type": "code",
   "id": "3171c947-3e30-4f0d-b7b3-47dacb0cb2e4",
   "metadata": {
    "language": "sql",
    "name": "cell9",
    "collapsed": false,
    "resultHeight": 0
   },
   "outputs": [],
   "source": "----------------------------------------------------------------------\n-- \"Vectorize\" the chunked text into a language encoded representation\n----------------------------------------------------------------------  \nCREATE OR REPLACE TABLE repair_manuals_chunked_vectors AS \nSELECT \n    file_name, \n    chunk_number, \n    chunk_text, \n    combined_chunk_text,\n    snowflake.cortex.embed_text_768('e5-base-v2', combined_chunk_text) as combined_chunk_vector\nFROM \n    repair_manuals_chunked;\n\n--Validate\nSELECT * FROM repair_manuals_chunked_vectors;",
   "execution_count": null
  },
  {
   "cell_type": "markdown",
   "id": "39237253-a906-49d2-bf10-e96a8efdd611",
   "metadata": {
    "name": "cell35",
    "collapsed": false,
    "resultHeight": 1083
   },
   "source": "## RAG Query Function Implementation\n\n### Purpose\nCreates a function that implements the RAG (Retrieval Augmented Generation) pattern, combining vector similarity search with LLM-based response generation for equipment repair queries.\n\n### Technical Specifications\n- Function Name: REPAIR_MANUALS_LLM\n- Input: User prompt (string)\n- Output: Table with response and context details\n- Models Used:\n  - e5-base-v2 for embedding\n  - mixtral-8x7b for text generation\n\n### Function Components\n1. **Vector Similarity Search**\n   - Uses cosine similarity for context retrieval\n   - Retrieves top 10 most relevant chunks\n   - Scores matches based on vector similarity\n\n2. **Response Generation**\n   - Combines user query with retrieved context\n   - Uses Mixtral 8x7B model for response generation\n   - Returns structured output with context\n\n### Output Structure\n- response: LLM-generated answer\n- file_name: Source document\n- chunk_text: Retrieved context\n- chunk_number: Context identifier\n- score: Similarity score\n\n### Usage\n- Input maintenance-related questions\n- Receives contextualized responses\n- Includes source documentation references"
  },
  {
   "cell_type": "code",
   "id": "1d33a14b-b8e8-4f7b-b69f-7f9eccd459ac",
   "metadata": {
    "language": "sql",
    "name": "cell10",
    "collapsed": false,
    "resultHeight": 0
   },
   "outputs": [],
   "source": "----------------------------------------------------------------------\n-- Invoke an LLM, sending our question as part of the prompt along with \n-- additional \"context\" from the best matching chunk (based on cosine similarity)\n----------------------------------------------------------------------  \nSET prompt = 'OTTO 1500 agv is not driving straight.  How do I troubleshoot and resolve this issue?';\n\nCREATE OR REPLACE FUNCTION REPAIR_MANUALS_LLM(prompt string)\nRETURNS TABLE (response string, file_name string, chunk_text string, chunk_number int, score float)\nAS\n    $$\n    WITH best_match_chunk AS (\n        SELECT\n            v.file_name,\n            v.chunk_number,\n            v.chunk_text,\n            VECTOR_COSINE_SIMILARITY(v.combined_chunk_vector, snowflake.cortex.embed_text_768('e5-base-v2', prompt)) AS score\n        FROM \n            repair_manuals_chunked_vectors v\n        ORDER BY \n            score DESC\n        LIMIT 10\n    )\n    SELECT \n        SNOWFLAKE.cortex.COMPLETE('mixtral-8x7b', \n            CONCAT('Answer this question: ', prompt, '\\n\\nUsing this repair manual text: ', chunk_text)\n        ) AS response,\n        file_name,\n        chunk_text,\n        chunk_number,\n        score\n    FROM\n        best_match_chunk\n    $$;",
   "execution_count": null
  },
  {
   "cell_type": "code",
   "id": "1b075f12-41ec-47ed-90dd-6d4b3b62ffe0",
   "metadata": {
    "language": "sql",
    "name": "cell11",
    "collapsed": false,
    "resultHeight": 0
   },
   "outputs": [],
   "source": "SELECT * FROM TABLE(REPAIR_MANUALS_LLM($prompt));\n",
   "execution_count": null
  },
  {
   "cell_type": "markdown",
   "id": "1e00b924-1952-4aa0-a571-da3436d0df35",
   "metadata": {
    "name": "Step_4_LLM_generated_repair_logs",
    "collapsed": false,
    "resultHeight": 60
   },
   "source": "## Step 4: LLM Generated Repair logs"
  },
  {
   "cell_type": "markdown",
   "id": "028bdcd2-e809-49fe-9c36-44c32f60819d",
   "metadata": {
    "name": "cell36",
    "collapsed": false,
    "resultHeight": 736
   },
   "source": "## Equipment Repair Logs Table Creation\n\n### Purpose\nCreates a structured table to track and store equipment maintenance records, enabling systematic logging of repair incidents and their resolutions.\n\n### Table Structure\n- date_reported: Timestamp of issue reporting\n- equipment_model: Model identifier of the equipment\n- equipment_id: Unique identifier for specific equipment unit\n- problem_reported: Description of the reported issue\n- resolution_notes: Documentation of repair actions and solutions\n\n### Usage Scenarios\n- Track maintenance history\n- Monitor equipment issues\n- Document repair solutions\n- Enable maintenance analysis\n- Support preventive maintenance\n\n### Integration Points\n- Connects with RAG system for solution retrieval\n- Supports maintenance pattern analysis\n- Enables historical repair tracking"
  },
  {
   "cell_type": "code",
   "id": "8f28e59e-ebf9-472c-b5a7-8638fc086a0c",
   "metadata": {
    "language": "sql",
    "name": "cell14",
    "collapsed": false,
    "resultHeight": 0
   },
   "outputs": [],
   "source": "----------------------------------------------------------------------\n-- Create a table to represent equipment repair logs\n----------------------------------------------------------------------  \nCREATE OR REPLACE TABLE repair_logs (\n    date_reported datetime, \n    equipment_model string,\n    equipment_id string,\n    problem_reported string,\n    resolution_notes string\n);",
   "execution_count": null
  },
  {
   "cell_type": "markdown",
   "id": "1a8f65a0-84fd-452c-950d-08c9167d610b",
   "metadata": {
    "name": "cell37",
    "collapsed": false,
    "resultHeight": 793
   },
   "source": "## Simulated Repair Log Data Population\n\n### Purpose\nPopulates the repair_logs table with simulated maintenance records for various Otto AGV models, establishing a historical maintenance database for RAG system training.\n\n### Data Structure\n- Timestamps: March 2023 - December 2023\n- Equipment Models: Otto Forklift, Otto 100, Otto 600, Otto 1500\n- Record Types:\n  - Equipment issues\n  - Resolution actions\n  - Maintenance outcomes\n\n### Implementation Details\n- 40+ maintenance records\n- Diverse problem scenarios\n- Detailed resolution notes\n- Multiple equipment models\n- Various AGV units (AGV-001 to AGV-012)\n\n### Data Usage\n- Training data for RAG system\n- Historical maintenance patterns\n- Equipment issue analysis\n- Resolution effectiveness tracking"
  },
  {
   "cell_type": "code",
   "id": "7cc18539-0cb6-4825-872c-ad68287da0ae",
   "metadata": {
    "language": "sql",
    "name": "cell15",
    "collapsed": false,
    "resultHeight": 438
   },
   "outputs": [],
   "source": "----------------------------------------------------------------------\n-- Load (simulated) repair logs.\n----------------------------------------------------------------------  \nINSERT INTO repair_logs (date_reported, equipment_model, equipment_id, problem_reported, resolution_notes) VALUES\n('2023-03-23 08:42:48', 'Otto Forklift', 'AGV-010', 'Vision System Calibration Error', 'Recalibrated the vision system and replaced damaged image sensors. Tested object recognition accuracy.'),\n('2023-09-30 04:42:47', 'Otto 100', 'AGV-011', 'Wireless Receiver Malfunction', 'Replaced faulty wireless receiver and updated communication protocols. Ensured robust signal reception.'),\n('2023-09-27 05:01:16', 'Otto Forklift', 'AGV-006', 'Inadequate Lifting Force', 'Adjusted the hydraulic pressure settings and replaced weak hydraulic pistons. Tested lifting capacity with maximum load.'),\n('2023-02-16 09:42:31', 'Otto 1500', 'AGV-001', 'Hydraulic System Overpressure', 'Adjusted hydraulic system and replaced faulty pressure valves. Ensured safe and stable operation.'),\n('2023-10-29 23:44:57', 'Otto 600', 'AGV-003', 'Erratic Forklift Movement', 'Repaired damaged forklift steering components and recalibrated steering controls. Ensured smooth and accurate movement.'),('2023-11-21 18:35:09', 'Otto 600', 'AGV-002', 'Motor Torque Fluctuations', 'Replaced worn motor brushes and serviced motor components. Calibrated motor for consistent torque output.'),\n('2023-07-04 14:22:33', 'Otto Forklift', 'AGV-005', 'Control Software Hangs', 'Diagnosed software hanging issue, optimized system resources, and applied software updates. Conducted stress tests for reliability.'),\n('2023-12-13 21:16:49', 'Otto 1500', 'AGV-004', 'Path Deviation in Navigation', 'Updated navigation algorithms and recalibrated wheel encoders. Performed path accuracy tests in different layouts.'),\n('2023-08-10 10:55:43', 'Otto 100', 'AGV-012', 'Steering Response Delay', 'Diagnosed and fixed the delay in steering response. Calibrated the steering system for immediate and accurate response.'),\n('2023-05-15 16:11:28', 'Otto Forklift', 'AGV-009', 'Unresponsive Touch Panel', 'Replaced the touch panel and updated the interface software. Tested for user interaction and responsiveness.'),\n('2023-08-31 02:54:20', 'Otto 100', 'AGV-003', 'Charging System Inefficiency', 'Upgraded the charging system components and optimized charging algorithms for faster and more efficient charging.'),\n('2023-10-05 20:24:19', 'Otto Forklift', 'AGV-008', 'Payload Sensor Inaccuracy', 'Calibrated payload sensors and replaced defective units. Ensured accurate load measurement and handling.'),\n('2023-02-19 22:29:24', 'Otto 1500', 'AGV-009', 'Cooling Fan Malfunction', 'Replaced malfunctioning cooling fans and cleaned air vents. Tested under load to ensure effective heat dissipation.'),\n('2023-05-29 15:09:15', 'Otto 100', 'AGV-011', 'Drive Motor Overheating', 'Serviced drive motors and replaced worn components. Improved motor cooling and monitored temperature during operation.'),\n('2023-04-30 01:03:03', 'Otto 600', 'AGV-002', 'Laser Scanner Inaccuracy', 'Calibrated laser scanners and updated scanning software. Ensured precise environmental mapping and obstacle detection.'),\n('2023-03-14 13:15:52', 'Otto Forklift', 'AGV-006', 'Conveyor Belt Misalignment', 'Realigned the conveyor belt and adjusted tension settings. Conducted operational tests for smooth and consistent movement.'),\n('2023-11-14 08:11:58', 'Otto 1500', 'AGV-012', 'Forklift Sensor Misalignment', 'Realigned forklift sensors and calibrated for precise object positioning and handling.'),\n('2023-12-24 22:35:13', 'Otto 600', 'AGV-008', 'Erratic Forklift Movement', 'Repaired damaged forklift steering components and recalibrated steering controls. Ensured smooth and accurate movement.'),\n('2023-09-20 08:08:16', 'Otto 100', 'AGV-007', 'Hydraulic System Overpressure', 'Adjusted hydraulic system pressure settings and replaced faulty pressure valves. Ensured safe and stable operation.'),\n('2023-10-20 00:37:29', 'Otto 600', 'AGV-003', 'Forklift Sensor Misalignment', 'Performed alignment on forklift sensors and calibrated for precise object positioning and handling.'),('2023-08-20 12:49:44', 'Otto 1500', 'AGV-008', 'Control Software Hangs', 'Diagnosed software hanging issue, optimized system resources, and applied software updates. Conducted stress tests for reliability.'),\n('2023-07-08 03:37:26', 'Otto 1500', 'AGV-002', 'Wireless Receiver Malfunction', 'Replaced faulty wireless receiver and updated communication protocols. Ensured robust signal reception.'),\n('2023-10-12 09:05:07', 'Otto 1500', 'AGV-001', 'Laser Scanner Inaccuracy', 'Calibrated laser scanners and updated scanning software. Ensured precise environmental mapping and obstacle detection.'),\n('2023-03-12 19:28:34', 'Otto 1500', 'AGV-008', 'Hydraulic System Overpressure', 'Adjusted hydraulic system pressure settings and replaced faulty pressure valves. Ensured safe and stable operation.'),\n('2023-01-19 23:10:03', 'Otto 600', 'AGV-006', 'Inconsistent Conveyor Speed', 'Repaired gearbox in conveyor attachment and adjusted speed control settings. Verified consistent conveyor operation.'),\n('2023-06-29 20:02:38', 'Otto 600', 'AGV-002', 'Battery Overheating', 'Replaced faulty battery cells and improved battery ventilation system. Monitored temperature during charging and operation.'),\n('2023-05-09 23:19:03', 'Otto 600', 'AGV-011', 'Inconsistent Conveyor Speed', 'Repaired gearbox in conveyor attachment and adjusted speed control settings. Verified consistent conveyor operation.'),\n('2023-06-09 17:56:51', 'Otto Forklift', 'AGV-002', 'Motor Torque Fluctuations', 'Replaced worn motor brushes and serviced motor components. Calibrated motor for consistent torque output.'),\n('2023-03-02 09:21:22', 'Otto 1500', 'AGV-004', 'Payload Sensor Inaccuracy', 'Calibrated payload sensors and replaced defective units. Ensured accurate load measurement and handling.'),\n('2023-07-16 00:00:54', 'Otto 1500', 'AGV-003', 'Drive Motor Overheating', 'Serviced drive motors and replaced worn components. Improved motor cooling and monitored temperature during operation.'),\n('2023-02-28 12:48:29', 'Otto 600', 'AGV-001', 'Inadequate Lifting Force', 'Adjusted the hydraulic pressure settings and replaced weak hydraulic pistons. Tested lifting capacity with maximum load.'),\n('2023-10-10 23:04:35', 'Otto Forklift', 'AGV-010', 'Unresponsive Touch Panel', 'Replaced the touch panel and updated the interface software. Tested for user interaction and responsiveness.'),\n('2023-08-01 13:37:16', 'Otto 600', 'AGV-004', 'Cooling Fan Malfunction', 'Replaced malfunctioning cooling fans and cleaned air vents. Tested under load to ensure effective heat dissipation.'),\n('2023-05-10 17:48:27', 'Otto Forklift', 'AGV-005', 'Battery Overheating', 'Replaced faulty battery cells and improved battery ventilation system. Monitored temperature during charging and operation.'),\n('2023-02-05 12:37:50', 'Otto Forklift', 'AGV-010', 'Charging System Inefficiency', 'Upgraded the charging system components and optimized charging algorithms for faster and more efficient charging.'),('2023-08-24 15:29:05', 'Otto 600', 'AGV-012', 'Inconsistent Conveyor Speed', 'Repaired gearbox in conveyor attachment and adjusted speed control settings. Verified consistent conveyor operation.'),\n('2023-03-28 02:59:06', 'Otto Forklift', 'AGV-011', 'Inadequate Lifting Force', 'Adjusted the hydraulic pressure settings and replaced weak hydraulic pistons. Tested lifting capacity with maximum load.'),\n('2023-08-07 20:55:21', 'Otto 600', 'AGV-007', 'Cooling Fan Malfunction', 'Replaced malfunctioning cooling fans and cleaned air vents. Tested under load to ensure effective heat dissipation.'),\n('2023-05-24 15:45:35', 'Otto 600', 'AGV-008', 'Charging System Inefficiency', 'Upgraded the charging system components and optimized charging algorithms for faster and more efficient charging.'),\n('2023-08-06 21:27:28', 'Otto Forklift', 'AGV-008', 'Path Deviation in Navigation', 'Updated navigation algorithms and recalibrated wheel encoders. Performed path accuracy tests in different layouts.'),\n('2023-02-18 15:41:59', 'Otto 1500', 'AGV-002', 'Battery Overheating', 'Replaced faulty battery cells and improved battery ventilation system. Monitored temperature during charging and operation.'),\n('2023-08-11 11:55:51', 'Otto Forklift', 'AGV-003', 'Charging System Inefficiency', 'Upgraded the charging system components and optimized charging algorithms for faster and more efficient charging.'),\n('2023-11-11 14:43:55', 'Otto 100', 'AGV-001', 'Charging System Inefficiency', 'Upgraded the charging system components and optimized charging algorithms for faster and more efficient charging.'),\n('2023-02-17 09:23:34', 'Otto 600', 'AGV-001', 'Control Software Hangs', 'Diagnosed software hanging issue, optimized system resources, and applied software updates. Conducted stress tests for reliability.'),\n('2023-03-13 18:19:47', 'Otto 100', 'AGV-011', 'Path Deviation in Navigation', 'Updated navigation algorithms and recalibrated wheel encoders. Performed path accuracy tests in different layouts.'),\n('2023-12-02 02:13:06', 'Otto 1500', 'AGV-001', 'Drive Motor Overheating', 'Serviced drive motors and replaced worn components. Improved motor cooling and monitored temperature during operation.');\n\n--Validate\nSELECT * FROM repair_logs;",
   "execution_count": null
  },
  {
   "cell_type": "markdown",
   "id": "5a86c023-203c-4be8-b967-84977ef9b3c4",
   "metadata": {
    "name": "cell38",
    "collapsed": false,
    "resultHeight": 851
   },
   "source": "## Repair Logs Formatting for LLM Context\n\n### Purpose\nCreates a formatted version of repair logs with structured text representation, optimizing the maintenance records for LLM consumption and context retrieval.\n\n### Technical Specifications\n- Table Name: repair_logs_formatted\n- Source: repair_logs table\n- Format: Natural language narrative structure\n- Preserves: All original columns\n\n### Text Structure\n1. Equipment Identification\n   - Model information\n   - AGV reference\n2. Problem Description\n   - Clear problem statement\n   - Issue details\n3. Resolution Details\n   - Solution steps\n   - Maintenance actions\n\n### Usage Benefits\n- Enhanced LLM comprehension\n- Structured context retrieval\n- Consistent format for responses\n- Improved semantic search results"
  },
  {
   "cell_type": "code",
   "id": "1a723234-ca1f-40c4-8bd6-d277a7f1f771",
   "metadata": {
    "language": "sql",
    "name": "cell16",
    "collapsed": false,
    "resultHeight": 438
   },
   "outputs": [],
   "source": "----------------------------------------------------------------------\n-- Format the logs in a way that will be helpful context for the LLM\n----------------------------------------------------------------------  \nCREATE OR REPLACE TABLE repair_logs_formatted AS\nSELECT\n    *,\n    CONCAT(\n        'The following Problem was Reported for a ',\n        equipment_model,\n        ' AGV.\\n\\nProblem:\\n', \n        problem_reported, \n        '\\n\\nResolution:\\n', \n        resolution_notes) AS combined_text\nFROM\n    repair_logs;\n\n--Validate\nSELECT * FROM repair_logs_formatted;",
   "execution_count": null
  },
  {
   "cell_type": "markdown",
   "id": "33eff5f0-5a62-4e75-bc66-0a062fbfca61",
   "metadata": {
    "name": "cell39",
    "collapsed": false,
    "resultHeight": 942
   },
   "source": "## Repair Logs Vectorization\n\n### Purpose\nCreates embeddings for formatted repair log entries using Snowflake Cortex, enabling semantic search capabilities across maintenance records.\n\n### Technical Specifications\n- Table Name: repair_logs_vectors\n- Model: e5-base-v2\n- Vector Dimension: 768\n- Source: Formatted repair logs\n\n### Table Structure\n- date_reported: Timestamp of issue\n- equipment_model: AGV model identifier\n- equipment_id: Specific unit ID\n- problem_reported: Issue description\n- resolution_notes: Solution details\n- combined_vector: Text embedding vector\n\n### Implementation Features\n- Preserves all original log fields\n- Generates vectors from formatted text\n- Enables semantic similarity search\n- Supports maintenance pattern analysis\n\n### Applications\n- Similar case retrieval\n- Pattern recognition\n- Maintenance trend analysis\n- Knowledge base search"
  },
  {
   "cell_type": "code",
   "id": "77fcaab6-a836-4e95-a2b5-20d466183648",
   "metadata": {
    "language": "sql",
    "name": "cell17",
    "collapsed": false,
    "resultHeight": 438
   },
   "outputs": [],
   "source": "----------------------------------------------------------------------\n-- \"Vectorize\" the formatted contents\n----------------------------------------------------------------------  \nCREATE OR REPLACE TABLE repair_logs_vectors AS\nSELECT \n    date_reported, \n    equipment_model,\n    equipment_id,\n    problem_reported,\n    resolution_notes,\n    snowflake.cortex.embed_text_768('e5-base-v2', combined_text) as combined_vector\nFROM repair_logs_formatted;\n\n--Validate\nSELECT * FROM repair_logs_vectors;",
   "execution_count": null
  },
  {
   "cell_type": "markdown",
   "id": "da3c2a57-73e3-4d3a-a9b7-a5b57aafa5d3",
   "metadata": {
    "name": "cell40",
    "collapsed": false,
    "resultHeight": 1025
   },
   "source": "## Repair Logs RAG Function Implementation\n\n### Purpose\nCreates a table-valued function that implements RAG pattern for maintenance queries, combining vector similarity search of repair logs with LLM-based response generation.\n\n### Technical Specifications\n- Function Name: REPAIR_LOGS_LLM\n- Input: Maintenance query (string)\n- Output: LLM response and relevant repair logs\n- Models:\n  - e5-base-v2 for embeddings\n  - mixtral-8x7b for response generation\n\n### Function Components\n1. **Vector Search (best_match_repair_logs CTE)**\n   - Performs cosine similarity matching\n   - Retrieves top 10 similar repair logs\n   - Ranks matches by similarity score\n\n2. **Response Generation (combined_notes CTE)**\n   - Aggregates relevant repair notes\n   - Structures prompt with maintenance context\n   - Generates targeted repair recommendations\n\n### Output Structure\n- response: LLM-generated repair guidance\n- relevant_repair_logs: Supporting historical repairs\n\n### Implementation Features\n- Context-aware responses\n- Historical repair reference\n- Similarity-based retrieval\n- Structured maintenance guidance"
  },
  {
   "cell_type": "code",
   "id": "64ccf890-d3ca-449a-84ed-6e51e44ad9fe",
   "metadata": {
    "language": "sql",
    "name": "cell18",
    "collapsed": false,
    "resultHeight": 111
   },
   "outputs": [],
   "source": "----------------------------------------------------------------------\n-- Create a table valued function that looks for the best repair logs \n-- (based upon cosine similarity) and pass those as context to the LLM.\n----------------------------------------------------------------------  \nCREATE OR REPLACE FUNCTION REPAIR_LOGS_LLM(prompt string)\nRETURNS TABLE (response string, relevant_repair_logs string)\nAS\n    $$\n       WITH best_match_repair_logs AS (\n            SELECT \n                *, \n                VECTOR_COSINE_SIMILARITY(\n                    combined_vector,\n                    snowflake.cortex.embed_text_768('e5-base-v2', prompt)\n                ) AS score\n            FROM\n                repair_logs_vectors\n            ORDER BY\n                score DESC\n            LIMIT 10\n        ),\n        combined_notes AS (\n            SELECT \n                SNOWFLAKE.CORTEX.COMPLETE('mixtral-8x7b', \n                    CONCAT('An equipment technician is dealing with this problem on an AGV: ', \n                    prompt, \n                    '\\n\\nUsing these previous similar resolution notes, what is the recommended course of action to troubleshoot and repair the AGV?\\n\\n', \n                    LISTAGG(resolution_notes, '\\n\\nResolution Note:\\n')\n                    )\n                ) AS response,\n                LISTAGG(resolution_notes, '\\n\\nResolution Note:\\n') AS relevant_repair_logs\n            FROM best_match_repair_logs\n        ) \n        SELECT * FROM combined_notes\n    $$;",
   "execution_count": null
  },
  {
   "cell_type": "markdown",
   "id": "2638165e-6a78-4c69-8a54-f95034892efa",
   "metadata": {
    "name": "cell41",
    "collapsed": false,
    "resultHeight": 670
   },
   "source": "## RAG System Testing Query\n\n### Purpose\nTests the RAG-based maintenance advisory system with a specific AGV issue, demonstrating the system's ability to provide contextual troubleshooting guidance.\n\n### Test Configuration\n- Equipment: OTTO 1500 AGV\n- Issue Type: Navigation/Movement\n- Query Focus: Straight-line deviation\n- Function: REPAIR_LOGS_LLM\n\n### Query Components\n1. **Test Prompt**\n   - Specific equipment model (OTTO 1500)\n   - Clear problem description\n   - Request for troubleshooting steps\n\n2. **Expected Output**\n   - LLM-generated response\n   - Relevant historical repair logs\n   - Context-aware solutions"
  },
  {
   "cell_type": "code",
   "id": "8bfe2d5a-7fa6-490f-a1f8-468611efc1bc",
   "metadata": {
    "language": "sql",
    "name": "cell19",
    "collapsed": false,
    "resultHeight": 111
   },
   "outputs": [],
   "source": "----------------------------------------------------------------------\n-- Test the LLM\n----------------------------------------------------------------------  \nSET prompt = 'OTTO 1500 agv is not driving straight.  How do I troubleshoot and resolve this issue?';\n\nSELECT * FROM TABLE(REPAIR_LOGS_LLM($prompt));",
   "execution_count": null
  },
  {
   "cell_type": "markdown",
   "id": "5925953e-996a-4bcf-a225-cd222fc81600",
   "metadata": {
    "name": "Step_5_Combined_Logs_And_Manuals",
    "collapsed": false,
    "resultHeight": 60
   },
   "source": "## Step 5: Combined Logs and Manuals"
  },
  {
   "cell_type": "markdown",
   "id": "80c6dc78-4065-4868-ba3a-89a0f48ef100",
   "metadata": {
    "name": "cell42",
    "collapsed": false,
    "resultHeight": 1005
   },
   "source": "## Combined RAG Response Function\n\n### Purpose\nCreates a function that integrates responses from both repair manuals and historical logs, providing a comprehensive summarized solution using Snowflake Cortex.\n\n### Technical Specifications\n- Function Name: COMBINED_REPAIR_LLM\n- Input: Maintenance query (string)\n- Output: Summarized response\n- Components:\n  - REPAIR_MANUALS_LLM\n  - REPAIR_LOGS_LLM\n  - Cortex Summarization\n\n### Function Architecture\n1. **Response Collection (stacked_results CTE)**\n   - Retrieves manual-based solution\n   - Retrieves historical repair solution\n   - Combines both perspectives\n\n2. **Text Aggregation (collapsed_results CTE)**\n   - Combines multiple responses\n   - Prepares text for summarization\n\n3. **Final Processing**\n   - Summarizes combined knowledge\n   - Generates concise solution\n\n### Implementation Benefits\n- Comprehensive solution coverage\n- Balanced theoretical/practical guidance\n- Concise, actionable responses\n- Integrated knowledge sources"
  },
  {
   "cell_type": "code",
   "id": "c2f7fd49-2b55-4553-8856-bfe1de025600",
   "metadata": {
    "language": "sql",
    "name": "cell21",
    "collapsed": false,
    "resultHeight": 111
   },
   "outputs": [],
   "source": "----------------------------------------------------------------------\n-- Run both LLMs, combine the contents, and ask Snowflake Cortex to summarize\n----------------------------------------------------------------------  \nCREATE OR REPLACE FUNCTION COMBINED_REPAIR_LLM(prompt string)\nRETURNS TABLE (response string)\nAS\n    $$\n       WITH stacked_results AS\n        (\n            SELECT TOP 1 response FROM TABLE(REPAIR_MANUALS_LLM(prompt)) \n            UNION\n            SELECT response FROM TABLE(REPAIR_LOGS_LLM(prompt))\n        ),\n        collapsed_results AS (\n            SELECT \n                LISTAGG(response) AS collapsed_text \n            FROM \n                stacked_results\n        )\n        SELECT\n            SNOWFLAKE.CORTEX.SUMMARIZE(collapsed_text) AS response\n        FROM\n            collapsed_results\n    $$;",
   "execution_count": null
  },
  {
   "cell_type": "markdown",
   "id": "f409d1d6-9bef-4222-9008-ccec68c7cdf4",
   "metadata": {
    "name": "cell43",
    "collapsed": false,
    "resultHeight": 699
   },
   "source": "## Combined RAG System Testing Query\n\n### Purpose\nTests the integrated RAG solution that combines both repair manual knowledge and historical repair logs, providing a comprehensive summarized solution for AGV maintenance issues.\n\n### Test Configuration\n- Equipment: OTTO 1500 AGV\n- Issue Type: Navigation/Movement\n- Query Focus: Straight-line deviation\n- Function: COMBINED_REPAIR_LLM\n\n### Test Components\n1. **Input Query**\n   - Specific equipment identification\n   - Clear problem description\n   - Request for troubleshooting steps\n\n2. **Expected Output**\n   - Summarized solution combining:\n     - Manual-based guidance\n     - Historical repair solutions\n   - Concise, actionable recommendations"
  },
  {
   "cell_type": "code",
   "id": "9828cce2-99ec-4258-9b10-5c835be4af16",
   "metadata": {
    "language": "sql",
    "name": "cell22",
    "collapsed": false,
    "resultHeight": 111
   },
   "outputs": [],
   "source": "----------------------------------------------------------------------\n-- Test the combined function\n----------------------------------------------------------------------  \nSET prompt = 'OTTO 1500 agv is not driving straight.  How do I troubleshoot and resolve this issue?';\n\nSELECT * FROM TABLE(COMBINED_REPAIR_LLM($prompt));",
   "execution_count": null
  },
  {
   "cell_type": "markdown",
   "id": "a7469092-f12e-4e8f-8ccd-ab791c1b2f2a",
   "metadata": {
    "name": "Step_6_Setup_Streamlit_App",
    "collapsed": false,
    "resultHeight": 60
   },
   "source": "## Step 6: Setup Streamlit app"
  },
  {
   "cell_type": "markdown",
   "id": "deb9e75d-d799-4637-9d80-3e12e0223b6f",
   "metadata": {
    "name": "cell45",
    "collapsed": false,
    "resultHeight": 1904
   },
   "source": "## AI-Guided Maintenance Streamlit Application\n\n### Purpose\nCreates an interactive web interface for the AI-powered maintenance advisory system, combining repair manual knowledge and historical repair logs.\n\n### Configuration Details\n1. **Basic Settings**\n   - App Name: AI-Guided Equipment Maintenance\n   - Location: Compute_ML\n   - Warehouse: Medium\n   - Database/Schema: LLM.RAG\n\n2. **Resource Allocation**\n   - Warehouse Size: Medium\n   - Auto-suspend: 300 seconds\n   - Concurrency: Standard\n\n3. **Security Settings**\n   - Role: DEMOADMIN\n   - Authentication: Snowflake native\n   - Access Control: Role-based\n\n### Application Components\n1. **Interface Elements**\n   - Title: AI-Guided Maintenance\n   - Equipment Image: OTTO 100 AGV visual reference\n   - Question Input: Text field for maintenance queries\n   - Submit Button: Snowflake-branded trigger\n\n2. **Tab Structure**\n   - Tab 1: Repair Manuals Analysis\n     - Maintenance manual recommendations\n     - Relevant text chunks and scores\n   \n   - Tab 2: Repair Logs Analysis\n     - Historical repair recommendations\n     - Relevant repair log entries\n   \n   - Tab 3: Combined Insights\n     - Synthesized recommendations\n     - Integrated knowledge base\n\n### Technical Implementation\n1. **Dependencies**\n   - streamlit: Web interface framework\n   - snowflake.snowpark: Database connectivity\n   \n2. **Session Management**\n   - Active Snowflake session\n   - Query execution context\n   \n3. **Data Processing**\n   - RAG-based query processing\n   - Multi-source response generation\n   - Dynamic result rendering\n\n### Implementation Features\n- Interactive query interface\n- Real-time LLM responses\n- Multi-tab result display\n- Visual equipment references\n- Contextual repair guidance\n\n### Usage Flow\n1. User enters maintenance question\n2. System processes query across knowledge bases\n3. Results displayed in organized tabs\n4. Recommendations provided with context\n\n"
  },
  {
   "cell_type": "markdown",
   "id": "a6f62e06-1e5d-44f8-a38c-932969b4d4d1",
   "metadata": {
    "name": "cell2",
    "collapsed": false,
    "resultHeight": 60
   },
   "source": "## Cleanup"
  },
  {
   "cell_type": "code",
   "id": "bbd8705f-da81-4fc7-bc71-d9699dba50ec",
   "metadata": {
    "language": "sql",
    "name": "cell25",
    "collapsed": false,
    "resultHeight": 111
   },
   "outputs": [],
   "source": "DROP FUNCTION IF EXISTS py_read_pdf(STRING);\nDROP FUNCTION IF EXISTS REPAIR_MANUALS_LLM(STRING);\nDROP FUNCTION IF EXISTS REPAIR_LOGS_LLM(STRING);\nDROP FUNCTION IF EXISTS COMBINED_REPAIR_LLM(STRING);",
   "execution_count": null
  },
  {
   "cell_type": "code",
   "id": "c98d7b87-0409-46c5-abf2-5a167b368665",
   "metadata": {
    "language": "sql",
    "name": "cell23",
    "collapsed": false,
    "resultHeight": 111
   },
   "outputs": [],
   "source": "\n-- Drop tables\nDROP TABLE IF EXISTS repair_manuals;\nDROP TABLE IF EXISTS repair_manuals_chunked;\nDROP TABLE IF EXISTS repair_manuals_chunked_vectors;\nDROP TABLE IF EXISTS repair_logs;\nDROP TABLE IF EXISTS repair_logs_formatted;\nDROP TABLE IF EXISTS repair_logs_vectors;",
   "execution_count": null
  },
  {
   "cell_type": "code",
   "id": "34578516-6c1a-48b2-b4c7-ebedde34c04d",
   "metadata": {
    "language": "sql",
    "name": "cell26",
    "collapsed": false,
    "resultHeight": 111
   },
   "outputs": [],
   "source": "-- Drop stage\nDROP STAGE IF EXISTS REPAIR_MANUALS;\n\n-- Drop schema\nDROP SCHEMA IF EXISTS LLM.RAG;",
   "execution_count": null
  },
  {
   "cell_type": "code",
   "id": "22b00e46-19ad-4a6f-acc3-5c8759cb88de",
   "metadata": {
    "language": "sql",
    "name": "cell27",
    "collapsed": false,
    "resultHeight": 111
   },
   "outputs": [],
   "source": "SELECT \n    CURRENT_WAREHOUSE(),\n    CURRENT_DATABASE(),\n    CURRENT_SCHEMA(),\n    CURRENT_ROLE();",
   "execution_count": null
  },
  {
   "cell_type": "code",
   "id": "3db41a75-2fcd-4b2e-8e1f-ed88cc5eaa30",
   "metadata": {
    "language": "sql",
    "name": "cell28",
    "collapsed": false,
    "resultHeight": 111
   },
   "outputs": [],
   "source": "use warehouse compute_wh;\nuse database notebooks_db;",
   "execution_count": null
  },
  {
   "cell_type": "code",
   "id": "745e9e56-eb18-43b8-904f-19f2e40a08e6",
   "metadata": {
    "language": "sql",
    "name": "cell24",
    "collapsed": false,
    "resultHeight": 111
   },
   "outputs": [],
   "source": "\n\n\n\n\n-- Drop database\nDROP DATABASE IF EXISTS LLM;\n\n-- Drop warehouse\nDROP WAREHOUSE IF EXISTS Medium;",
   "execution_count": null
  }
 ]
}